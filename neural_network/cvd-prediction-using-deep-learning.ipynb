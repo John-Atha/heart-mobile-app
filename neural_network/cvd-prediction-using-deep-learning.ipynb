{
 "cells": [
  {
   "cell_type": "markdown",
   "id": "8350e847",
   "metadata": {
    "papermill": {
     "duration": 0.070498,
     "end_time": "2022-06-05T09:10:16.415704",
     "exception": false,
     "start_time": "2022-06-05T09:10:16.345206",
     "status": "completed"
    },
    "tags": []
   },
   "source": [
    "# CVD prediction using Deep Learning\n",
    "\n",
    "In this project, we use the [Cardiovascular Disease dataset](https://www.kaggle.com/sulianova/cardiovascular-disease-dataset) from kaggle. \n",
    "\n",
    "Based on some health conditions of an individual our model will predict whether someone will have a cardiovascular disease or not.\n",
    "\n",
    "Features:\n",
    "\n",
    "* Age | Objective Feature | age | int (days)\n",
    "* Height | Objective Feature | height | int (cm) |\n",
    "* Weight | Objective Feature | weight | float (kg) |\n",
    "* Gender | Objective Feature | gender | categorical code |\n",
    "* Systolic blood pressure | Examination Feature | ap_hi | int |\n",
    "* Diastolic blood pressure | Examination Feature | ap_lo | int |\n",
    "* Cholesterol | Examination Feature | cholesterol | 1: normal, 2: above normal, 3: well above normal |\n",
    "* Glucose | Examination Feature | gluc | 1: normal, 2: above normal, 3: well above normal |\n",
    "* Smoking | Subjective Feature | smoke | binary |\n",
    "* Alcohol intake | Subjective Feature | alco | binary |\n",
    "* Physical activity | Subjective Feature | active | binary |\n",
    "* Presence or absence of cardiovascular disease | Target Variable | cardio | binary |"
   ]
  },
  {
   "cell_type": "code",
   "execution_count": 1,
   "id": "532d7329",
   "metadata": {
    "_kg_hide-input": true,
    "execution": {
     "iopub.execute_input": "2022-06-05T09:10:16.557592Z",
     "iopub.status.busy": "2022-06-05T09:10:16.557038Z",
     "iopub.status.idle": "2022-06-05T09:10:17.783797Z",
     "shell.execute_reply": "2022-06-05T09:10:17.782788Z"
    },
    "papermill": {
     "duration": 1.30101,
     "end_time": "2022-06-05T09:10:17.786310",
     "exception": false,
     "start_time": "2022-06-05T09:10:16.485300",
     "status": "completed"
    },
    "tags": []
   },
   "outputs": [
    {
     "name": "stdout",
     "output_type": "stream",
     "text": [
      "<class 'pandas.core.frame.DataFrame'>\n",
      "RangeIndex: 70000 entries, 0 to 69999\n",
      "Data columns (total 13 columns):\n",
      " #   Column       Non-Null Count  Dtype  \n",
      "---  ------       --------------  -----  \n",
      " 0   id           70000 non-null  int64  \n",
      " 1   age          70000 non-null  int64  \n",
      " 2   gender       70000 non-null  int64  \n",
      " 3   height       70000 non-null  int64  \n",
      " 4   weight       70000 non-null  float64\n",
      " 5   ap_hi        70000 non-null  int64  \n",
      " 6   ap_lo        70000 non-null  int64  \n",
      " 7   cholesterol  70000 non-null  int64  \n",
      " 8   gluc         70000 non-null  int64  \n",
      " 9   smoke        70000 non-null  int64  \n",
      " 10  alco         70000 non-null  int64  \n",
      " 11  active       70000 non-null  int64  \n",
      " 12  cardio       70000 non-null  int64  \n",
      "dtypes: float64(1), int64(12)\n",
      "memory usage: 6.9 MB\n"
     ]
    }
   ],
   "source": [
    "#importing basic libraries\n",
    "import numpy as np\n",
    "import pandas as pd\n",
    "import matplotlib.pyplot as plt\n",
    "import seaborn as sns\n",
    "sns.set()\n",
    "import warnings\n",
    "warnings.filterwarnings('ignore')\n",
    "\n",
    "raw_data = pd.read_csv('../input/cardiovascular-disease-dataset/cardio_train.csv',sep=';')\n",
    "# Check the data\n",
    "raw_data.info()"
   ]
  },
  {
   "cell_type": "code",
   "execution_count": 2,
   "id": "bda9decf",
   "metadata": {
    "execution": {
     "iopub.execute_input": "2022-06-05T09:10:17.928513Z",
     "iopub.status.busy": "2022-06-05T09:10:17.928186Z",
     "iopub.status.idle": "2022-06-05T09:10:17.949258Z",
     "shell.execute_reply": "2022-06-05T09:10:17.948128Z"
    },
    "papermill": {
     "duration": 0.092444,
     "end_time": "2022-06-05T09:10:17.952336",
     "exception": false,
     "start_time": "2022-06-05T09:10:17.859892",
     "status": "completed"
    },
    "tags": []
   },
   "outputs": [
    {
     "data": {
      "text/html": [
       "<div>\n",
       "<style scoped>\n",
       "    .dataframe tbody tr th:only-of-type {\n",
       "        vertical-align: middle;\n",
       "    }\n",
       "\n",
       "    .dataframe tbody tr th {\n",
       "        vertical-align: top;\n",
       "    }\n",
       "\n",
       "    .dataframe thead th {\n",
       "        text-align: right;\n",
       "    }\n",
       "</style>\n",
       "<table border=\"1\" class=\"dataframe\">\n",
       "  <thead>\n",
       "    <tr style=\"text-align: right;\">\n",
       "      <th></th>\n",
       "      <th>id</th>\n",
       "      <th>age</th>\n",
       "      <th>gender</th>\n",
       "      <th>height</th>\n",
       "      <th>weight</th>\n",
       "      <th>ap_hi</th>\n",
       "      <th>ap_lo</th>\n",
       "      <th>cholesterol</th>\n",
       "      <th>gluc</th>\n",
       "      <th>smoke</th>\n",
       "      <th>alco</th>\n",
       "      <th>active</th>\n",
       "      <th>cardio</th>\n",
       "    </tr>\n",
       "  </thead>\n",
       "  <tbody>\n",
       "    <tr>\n",
       "      <th>0</th>\n",
       "      <td>0</td>\n",
       "      <td>18393</td>\n",
       "      <td>2</td>\n",
       "      <td>168</td>\n",
       "      <td>62.0</td>\n",
       "      <td>110</td>\n",
       "      <td>80</td>\n",
       "      <td>1</td>\n",
       "      <td>1</td>\n",
       "      <td>0</td>\n",
       "      <td>0</td>\n",
       "      <td>1</td>\n",
       "      <td>0</td>\n",
       "    </tr>\n",
       "    <tr>\n",
       "      <th>1</th>\n",
       "      <td>1</td>\n",
       "      <td>20228</td>\n",
       "      <td>1</td>\n",
       "      <td>156</td>\n",
       "      <td>85.0</td>\n",
       "      <td>140</td>\n",
       "      <td>90</td>\n",
       "      <td>3</td>\n",
       "      <td>1</td>\n",
       "      <td>0</td>\n",
       "      <td>0</td>\n",
       "      <td>1</td>\n",
       "      <td>1</td>\n",
       "    </tr>\n",
       "    <tr>\n",
       "      <th>2</th>\n",
       "      <td>2</td>\n",
       "      <td>18857</td>\n",
       "      <td>1</td>\n",
       "      <td>165</td>\n",
       "      <td>64.0</td>\n",
       "      <td>130</td>\n",
       "      <td>70</td>\n",
       "      <td>3</td>\n",
       "      <td>1</td>\n",
       "      <td>0</td>\n",
       "      <td>0</td>\n",
       "      <td>0</td>\n",
       "      <td>1</td>\n",
       "    </tr>\n",
       "  </tbody>\n",
       "</table>\n",
       "</div>"
      ],
      "text/plain": [
       "   id    age  gender  height  weight  ap_hi  ap_lo  cholesterol  gluc  smoke  \\\n",
       "0   0  18393       2     168    62.0    110     80            1     1      0   \n",
       "1   1  20228       1     156    85.0    140     90            3     1      0   \n",
       "2   2  18857       1     165    64.0    130     70            3     1      0   \n",
       "\n",
       "   alco  active  cardio  \n",
       "0     0       1       0  \n",
       "1     0       1       1  \n",
       "2     0       0       1  "
      ]
     },
     "execution_count": 2,
     "metadata": {},
     "output_type": "execute_result"
    }
   ],
   "source": [
    "raw_data.head(3)"
   ]
  },
  {
   "cell_type": "code",
   "execution_count": 3,
   "id": "e3091342",
   "metadata": {
    "execution": {
     "iopub.execute_input": "2022-06-05T09:10:18.092126Z",
     "iopub.status.busy": "2022-06-05T09:10:18.091515Z",
     "iopub.status.idle": "2022-06-05T09:10:18.100783Z",
     "shell.execute_reply": "2022-06-05T09:10:18.099527Z"
    },
    "papermill": {
     "duration": 0.082194,
     "end_time": "2022-06-05T09:10:18.103641",
     "exception": false,
     "start_time": "2022-06-05T09:10:18.021447",
     "status": "completed"
    },
    "tags": []
   },
   "outputs": [
    {
     "name": "stdout",
     "output_type": "stream",
     "text": [
      "Missing values are present: False\n"
     ]
    }
   ],
   "source": [
    "print(f\"Missing values are present: {raw_data.isnull().sum().any()}\")"
   ]
  },
  {
   "cell_type": "markdown",
   "id": "621ecf39",
   "metadata": {
    "papermill": {
     "duration": 0.06895,
     "end_time": "2022-06-05T09:10:18.242191",
     "exception": false,
     "start_time": "2022-06-05T09:10:18.173241",
     "status": "completed"
    },
    "tags": []
   },
   "source": [
    "* There is no missing value in the data.\n",
    "* We will drop column 'id' as it is irrelevant to target variable.\n",
    "* Transform age column into years instead of days.\n",
    "* Gender feature should not be categorized into 1 and 2 because 2 is always numerically bigger than 1, the model would take into account that and give a bigger ratio to one gender for having a disease. So, I will make that binary.\n",
    "* I will check and drop duplicates."
   ]
  },
  {
   "cell_type": "code",
   "execution_count": 4,
   "id": "f75c546d",
   "metadata": {
    "execution": {
     "iopub.execute_input": "2022-06-05T09:10:18.384307Z",
     "iopub.status.busy": "2022-06-05T09:10:18.384008Z",
     "iopub.status.idle": "2022-06-05T09:10:18.397466Z",
     "shell.execute_reply": "2022-06-05T09:10:18.396438Z"
    },
    "papermill": {
     "duration": 0.087345,
     "end_time": "2022-06-05T09:10:18.399633",
     "exception": false,
     "start_time": "2022-06-05T09:10:18.312288",
     "status": "completed"
    },
    "tags": []
   },
   "outputs": [],
   "source": [
    "raw_data.drop('id',axis=1,inplace=True)\n",
    "raw_data.age = (raw_data.age / 365).round().astype('int')\n",
    "raw_data.gender = raw_data.gender.replace(2,0)"
   ]
  },
  {
   "cell_type": "code",
   "execution_count": 5,
   "id": "36c1128e",
   "metadata": {
    "execution": {
     "iopub.execute_input": "2022-06-05T09:10:18.541102Z",
     "iopub.status.busy": "2022-06-05T09:10:18.540821Z",
     "iopub.status.idle": "2022-06-05T09:10:18.567351Z",
     "shell.execute_reply": "2022-06-05T09:10:18.566385Z"
    },
    "papermill": {
     "duration": 0.100179,
     "end_time": "2022-06-05T09:10:18.569696",
     "exception": false,
     "start_time": "2022-06-05T09:10:18.469517",
     "status": "completed"
    },
    "tags": []
   },
   "outputs": [
    {
     "data": {
      "text/plain": [
       "3816"
      ]
     },
     "execution_count": 5,
     "metadata": {},
     "output_type": "execute_result"
    }
   ],
   "source": [
    "raw_data.duplicated().sum()"
   ]
  },
  {
   "cell_type": "code",
   "execution_count": 6,
   "id": "ebf9e0e7",
   "metadata": {
    "execution": {
     "iopub.execute_input": "2022-06-05T09:10:18.711061Z",
     "iopub.status.busy": "2022-06-05T09:10:18.710583Z",
     "iopub.status.idle": "2022-06-05T09:10:18.732376Z",
     "shell.execute_reply": "2022-06-05T09:10:18.731410Z"
    },
    "papermill": {
     "duration": 0.095758,
     "end_time": "2022-06-05T09:10:18.734983",
     "exception": false,
     "start_time": "2022-06-05T09:10:18.639225",
     "status": "completed"
    },
    "tags": []
   },
   "outputs": [],
   "source": [
    "raw_data.drop_duplicates(inplace=True)"
   ]
  },
  {
   "cell_type": "markdown",
   "id": "6fa89c3a",
   "metadata": {
    "papermill": {
     "duration": 0.069858,
     "end_time": "2022-06-05T09:10:18.875293",
     "exception": false,
     "start_time": "2022-06-05T09:10:18.805435",
     "status": "completed"
    },
    "tags": []
   },
   "source": [
    "# Data Preprocessing and Data Analysis"
   ]
  },
  {
   "cell_type": "code",
   "execution_count": 7,
   "id": "7652e8e3",
   "metadata": {
    "_kg_hide-input": true,
    "execution": {
     "iopub.execute_input": "2022-06-05T09:10:19.017880Z",
     "iopub.status.busy": "2022-06-05T09:10:19.016989Z",
     "iopub.status.idle": "2022-06-05T09:10:19.266919Z",
     "shell.execute_reply": "2022-06-05T09:10:19.265763Z"
    },
    "papermill": {
     "duration": 0.323824,
     "end_time": "2022-06-05T09:10:19.269250",
     "exception": false,
     "start_time": "2022-06-05T09:10:18.945426",
     "status": "completed"
    },
    "tags": []
   },
   "outputs": [
    {
     "data": {
      "image/png": "[encoded data removed]",
      "text/plain": [
       "<Figure size 432x288 with 1 Axes>"
      ]
     },
     "metadata": {},
     "output_type": "display_data"
    }
   ],
   "source": [
    "sns.set_style('darkgrid')\n",
    "sns.countplot(raw_data.cardio,palette='summer')\n",
    "plt.xlabel('Presence of cardiovascular disease',fontdict={'fontsize': 15,'color':'Green'},labelpad=3);"
   ]
  },
  {
   "cell_type": "markdown",
   "id": "7398a489",
   "metadata": {
    "papermill": {
     "duration": 0.071762,
     "end_time": "2022-06-05T09:10:19.411580",
     "exception": false,
     "start_time": "2022-06-05T09:10:19.339818",
     "status": "completed"
    },
    "tags": []
   },
   "source": [
    "So, data is almost balanced. Let's see which gender has more cases of disease. As in this data there was no knowledge of which gender is denoted by which number, I will use simple fact that women's average height is less than that of men."
   ]
  },
  {
   "cell_type": "code",
   "execution_count": 8,
   "id": "52b831e4",
   "metadata": {
    "execution": {
     "iopub.execute_input": "2022-06-05T09:10:19.554576Z",
     "iopub.status.busy": "2022-06-05T09:10:19.554285Z",
     "iopub.status.idle": "2022-06-05T09:10:19.568636Z",
     "shell.execute_reply": "2022-06-05T09:10:19.567185Z"
    },
    "papermill": {
     "duration": 0.089527,
     "end_time": "2022-06-05T09:10:19.571031",
     "exception": false,
     "start_time": "2022-06-05T09:10:19.481504",
     "status": "completed"
    },
    "tags": []
   },
   "outputs": [
    {
     "name": "stdout",
     "output_type": "stream",
     "text": [
      "Gender:0 is male & Gender:1 is female\n"
     ]
    }
   ],
   "source": [
    "a = raw_data[raw_data[\"gender\"]==0][\"height\"].mean()\n",
    "b = raw_data[raw_data[\"gender\"]==1][\"height\"].mean()\n",
    "if a > b:\n",
    "    gender = \"male\"\n",
    "    gender1 = \"female\"\n",
    "else:\n",
    "    gender = \"female\"\n",
    "    gender1 = \"male\"\n",
    "print(\"Gender:0 is \"+ gender +\" & Gender:1 is \" + gender1)"
   ]
  },
  {
   "cell_type": "code",
   "execution_count": 9,
   "id": "609dc668",
   "metadata": {
    "_kg_hide-input": true,
    "execution": {
     "iopub.execute_input": "2022-06-05T09:10:19.716819Z",
     "iopub.status.busy": "2022-06-05T09:10:19.716165Z",
     "iopub.status.idle": "2022-06-05T09:10:19.944955Z",
     "shell.execute_reply": "2022-06-05T09:10:19.943955Z"
    },
    "papermill": {
     "duration": 0.304441,
     "end_time": "2022-06-05T09:10:19.947343",
     "exception": false,
     "start_time": "2022-06-05T09:10:19.642902",
     "status": "completed"
    },
    "tags": []
   },
   "outputs": [
    {
     "data": {
      "image/png": "[encoded data removed]",
      "text/plain": [
       "<Figure size 432x288 with 1 Axes>"
      ]
     },
     "metadata": {},
     "output_type": "display_data"
    }
   ],
   "source": [
    "sns.set_style('whitegrid')\n",
    "sns.countplot(raw_data.gender,hue=raw_data.cardio, palette=\"Set2\");"
   ]
  },
  {
   "cell_type": "markdown",
   "id": "1139d836",
   "metadata": {
    "papermill": {
     "duration": 0.074284,
     "end_time": "2022-06-05T09:10:20.093921",
     "exception": false,
     "start_time": "2022-06-05T09:10:20.019637",
     "status": "completed"
    },
    "tags": []
   },
   "source": [
    "Age is measured in days, height is in centimeters. Let's look at the numerical variables and how are they spread among target class. For example, at what age does the number of people with CVD exceed the number of people without CVD?"
   ]
  },
  {
   "cell_type": "code",
   "execution_count": 10,
   "id": "59e3b4c0",
   "metadata": {
    "execution": {
     "iopub.execute_input": "2022-06-05T09:10:20.239050Z",
     "iopub.status.busy": "2022-06-05T09:10:20.238268Z",
     "iopub.status.idle": "2022-06-05T09:10:20.895639Z",
     "shell.execute_reply": "2022-06-05T09:10:20.894715Z"
    },
    "papermill": {
     "duration": 0.73249,
     "end_time": "2022-06-05T09:10:20.897972",
     "exception": false,
     "start_time": "2022-06-05T09:10:20.165482",
     "status": "completed"
    },
    "tags": []
   },
   "outputs": [
    {
     "data": {
      "image/png": "[encoded data removed]",
      "text/plain": [
       "<Figure size 792x576 with 1 Axes>"
      ]
     },
     "metadata": {},
     "output_type": "display_data"
    }
   ],
   "source": [
    "from matplotlib import rcParams\n",
    "rcParams['figure.figsize'] = 11, 8\n",
    "sns.countplot(x='age', hue='cardio', data = raw_data, palette=\"Set2\");"
   ]
  },
  {
   "cell_type": "code",
   "execution_count": 11,
   "id": "25cb37d7",
   "metadata": {
    "_kg_hide-input": true,
    "execution": {
     "iopub.execute_input": "2022-06-05T09:10:21.047500Z",
     "iopub.status.busy": "2022-06-05T09:10:21.046891Z",
     "iopub.status.idle": "2022-06-05T09:10:21.319821Z",
     "shell.execute_reply": "2022-06-05T09:10:21.318683Z"
    },
    "papermill": {
     "duration": 0.350628,
     "end_time": "2022-06-05T09:10:21.322186",
     "exception": false,
     "start_time": "2022-06-05T09:10:20.971558",
     "status": "completed"
    },
    "tags": []
   },
   "outputs": [
    {
     "data": {
      "image/png": "[encoded data removed]",
      "text/plain": [
       "<Figure size 792x576 with 1 Axes>"
      ]
     },
     "metadata": {},
     "output_type": "display_data"
    }
   ],
   "source": [
    "sns.set_style('dark')\n",
    "sns.boxplot(raw_data.height,palette='pink')\n",
    "plt.title('Distribution of height');"
   ]
  },
  {
   "cell_type": "code",
   "execution_count": 12,
   "id": "fcb6e284",
   "metadata": {
    "_kg_hide-input": true,
    "execution": {
     "iopub.execute_input": "2022-06-05T09:10:21.476066Z",
     "iopub.status.busy": "2022-06-05T09:10:21.475741Z",
     "iopub.status.idle": "2022-06-05T09:10:21.741351Z",
     "shell.execute_reply": "2022-06-05T09:10:21.740376Z"
    },
    "papermill": {
     "duration": 0.34398,
     "end_time": "2022-06-05T09:10:21.743684",
     "exception": false,
     "start_time": "2022-06-05T09:10:21.399704",
     "status": "completed"
    },
    "tags": []
   },
   "outputs": [
    {
     "data": {
      "image/png": "[encoded data removed]",
      "text/plain": [
       "<Figure size 792x576 with 1 Axes>"
      ]
     },
     "metadata": {},
     "output_type": "display_data"
    }
   ],
   "source": [
    "sns.set_style('white')\n",
    "sns.boxplot(raw_data.weight,palette='terrain')\n",
    "plt.title('Distribution of weight');"
   ]
  },
  {
   "cell_type": "markdown",
   "id": "6e9b32c1",
   "metadata": {
    "papermill": {
     "duration": 0.075965,
     "end_time": "2022-06-05T09:10:21.895960",
     "exception": false,
     "start_time": "2022-06-05T09:10:21.819995",
     "status": "completed"
    },
    "tags": []
   },
   "source": [
    "I will remove extremely rare cases of height and weight. As data is quite big, there will be no prblem while modelling."
   ]
  },
  {
   "cell_type": "code",
   "execution_count": 13,
   "id": "0feb945e",
   "metadata": {
    "execution": {
     "iopub.execute_input": "2022-06-05T09:10:22.049673Z",
     "iopub.status.busy": "2022-06-05T09:10:22.049372Z",
     "iopub.status.idle": "2022-06-05T09:10:22.060477Z",
     "shell.execute_reply": "2022-06-05T09:10:22.059496Z"
    },
    "papermill": {
     "duration": 0.091095,
     "end_time": "2022-06-05T09:10:22.062698",
     "exception": false,
     "start_time": "2022-06-05T09:10:21.971603",
     "status": "completed"
    },
    "tags": []
   },
   "outputs": [],
   "source": [
    "raw_data = raw_data[(raw_data['height']<250) & (raw_data['weight']>20.0)]"
   ]
  },
  {
   "cell_type": "markdown",
   "id": "6b5006d3",
   "metadata": {
    "papermill": {
     "duration": 0.07474,
     "end_time": "2022-06-05T09:10:22.220061",
     "exception": false,
     "start_time": "2022-06-05T09:10:22.145321",
     "status": "completed"
    },
    "tags": []
   },
   "source": [
    "There are many outliers in height and weight features. I combine both of these into a new feature called bmi."
   ]
  },
  {
   "cell_type": "markdown",
   "id": "d5ca7fc1",
   "metadata": {
    "papermill": {
     "duration": 0.075743,
     "end_time": "2022-06-05T09:10:22.372666",
     "exception": false,
     "start_time": "2022-06-05T09:10:22.296923",
     "status": "completed"
    },
    "tags": []
   },
   "source": [
    "$$ BMI = \\frac{Weight(kg)}{Height(m)^{2}} $$"
   ]
  },
  {
   "cell_type": "code",
   "execution_count": 14,
   "id": "6d46cb74",
   "metadata": {
    "execution": {
     "iopub.execute_input": "2022-06-05T09:10:22.528109Z",
     "iopub.status.busy": "2022-06-05T09:10:22.527817Z",
     "iopub.status.idle": "2022-06-05T09:10:22.536218Z",
     "shell.execute_reply": "2022-06-05T09:10:22.535322Z"
    },
    "papermill": {
     "duration": 0.087303,
     "end_time": "2022-06-05T09:10:22.538392",
     "exception": false,
     "start_time": "2022-06-05T09:10:22.451089",
     "status": "completed"
    },
    "tags": []
   },
   "outputs": [],
   "source": [
    "raw_data[\"bmi\"] = (raw_data[\"weight\"]/ (raw_data[\"height\"]/100)**2).round(1)"
   ]
  },
  {
   "cell_type": "code",
   "execution_count": 15,
   "id": "20ef48bd",
   "metadata": {
    "execution": {
     "iopub.execute_input": "2022-06-05T09:10:22.690544Z",
     "iopub.status.busy": "2022-06-05T09:10:22.690255Z",
     "iopub.status.idle": "2022-06-05T09:10:22.708529Z",
     "shell.execute_reply": "2022-06-05T09:10:22.707523Z"
    },
    "papermill": {
     "duration": 0.096905,
     "end_time": "2022-06-05T09:10:22.710812",
     "exception": false,
     "start_time": "2022-06-05T09:10:22.613907",
     "status": "completed"
    },
    "tags": []
   },
   "outputs": [
    {
     "data": {
      "text/html": [
       "<div>\n",
       "<style scoped>\n",
       "    .dataframe tbody tr th:only-of-type {\n",
       "        vertical-align: middle;\n",
       "    }\n",
       "\n",
       "    .dataframe tbody tr th {\n",
       "        vertical-align: top;\n",
       "    }\n",
       "\n",
       "    .dataframe thead th {\n",
       "        text-align: right;\n",
       "    }\n",
       "</style>\n",
       "<table border=\"1\" class=\"dataframe\">\n",
       "  <thead>\n",
       "    <tr style=\"text-align: right;\">\n",
       "      <th></th>\n",
       "      <th>age</th>\n",
       "      <th>gender</th>\n",
       "      <th>height</th>\n",
       "      <th>weight</th>\n",
       "      <th>ap_hi</th>\n",
       "      <th>ap_lo</th>\n",
       "      <th>cholesterol</th>\n",
       "      <th>gluc</th>\n",
       "      <th>smoke</th>\n",
       "      <th>alco</th>\n",
       "      <th>active</th>\n",
       "      <th>cardio</th>\n",
       "      <th>bmi</th>\n",
       "    </tr>\n",
       "  </thead>\n",
       "  <tbody>\n",
       "    <tr>\n",
       "      <th>26806</th>\n",
       "      <td>64</td>\n",
       "      <td>1</td>\n",
       "      <td>157</td>\n",
       "      <td>23.0</td>\n",
       "      <td>110</td>\n",
       "      <td>80</td>\n",
       "      <td>1</td>\n",
       "      <td>1</td>\n",
       "      <td>0</td>\n",
       "      <td>0</td>\n",
       "      <td>1</td>\n",
       "      <td>0</td>\n",
       "      <td>9.3</td>\n",
       "    </tr>\n",
       "    <tr>\n",
       "      <th>29488</th>\n",
       "      <td>56</td>\n",
       "      <td>0</td>\n",
       "      <td>177</td>\n",
       "      <td>22.0</td>\n",
       "      <td>120</td>\n",
       "      <td>80</td>\n",
       "      <td>1</td>\n",
       "      <td>1</td>\n",
       "      <td>1</td>\n",
       "      <td>1</td>\n",
       "      <td>1</td>\n",
       "      <td>0</td>\n",
       "      <td>7.0</td>\n",
       "    </tr>\n",
       "    <tr>\n",
       "      <th>60188</th>\n",
       "      <td>60</td>\n",
       "      <td>1</td>\n",
       "      <td>162</td>\n",
       "      <td>21.0</td>\n",
       "      <td>120</td>\n",
       "      <td>80</td>\n",
       "      <td>2</td>\n",
       "      <td>1</td>\n",
       "      <td>0</td>\n",
       "      <td>0</td>\n",
       "      <td>1</td>\n",
       "      <td>1</td>\n",
       "      <td>8.0</td>\n",
       "    </tr>\n",
       "    <tr>\n",
       "      <th>60699</th>\n",
       "      <td>52</td>\n",
       "      <td>1</td>\n",
       "      <td>171</td>\n",
       "      <td>29.0</td>\n",
       "      <td>110</td>\n",
       "      <td>70</td>\n",
       "      <td>2</td>\n",
       "      <td>1</td>\n",
       "      <td>0</td>\n",
       "      <td>0</td>\n",
       "      <td>1</td>\n",
       "      <td>1</td>\n",
       "      <td>9.9</td>\n",
       "    </tr>\n",
       "  </tbody>\n",
       "</table>\n",
       "</div>"
      ],
      "text/plain": [
       "       age  gender  height  weight  ap_hi  ap_lo  cholesterol  gluc  smoke  \\\n",
       "26806   64       1     157    23.0    110     80            1     1      0   \n",
       "29488   56       0     177    22.0    120     80            1     1      1   \n",
       "60188   60       1     162    21.0    120     80            2     1      0   \n",
       "60699   52       1     171    29.0    110     70            2     1      0   \n",
       "\n",
       "       alco  active  cardio  bmi  \n",
       "26806     0       1       0  9.3  \n",
       "29488     1       1       0  7.0  \n",
       "60188     0       1       1  8.0  \n",
       "60699     0       1       1  9.9  "
      ]
     },
     "execution_count": 15,
     "metadata": {},
     "output_type": "execute_result"
    }
   ],
   "source": [
    "raw_data[raw_data['bmi']<10]"
   ]
  },
  {
   "cell_type": "code",
   "execution_count": 16,
   "id": "472b3c0c",
   "metadata": {
    "execution": {
     "iopub.execute_input": "2022-06-05T09:10:22.863820Z",
     "iopub.status.busy": "2022-06-05T09:10:22.862970Z",
     "iopub.status.idle": "2022-06-05T09:10:22.881838Z",
     "shell.execute_reply": "2022-06-05T09:10:22.880800Z"
    },
    "papermill": {
     "duration": 0.098297,
     "end_time": "2022-06-05T09:10:22.884671",
     "exception": false,
     "start_time": "2022-06-05T09:10:22.786374",
     "status": "completed"
    },
    "tags": []
   },
   "outputs": [
    {
     "data": {
      "text/html": [
       "<div>\n",
       "<style scoped>\n",
       "    .dataframe tbody tr th:only-of-type {\n",
       "        vertical-align: middle;\n",
       "    }\n",
       "\n",
       "    .dataframe tbody tr th {\n",
       "        vertical-align: top;\n",
       "    }\n",
       "\n",
       "    .dataframe thead th {\n",
       "        text-align: right;\n",
       "    }\n",
       "</style>\n",
       "<table border=\"1\" class=\"dataframe\">\n",
       "  <thead>\n",
       "    <tr style=\"text-align: right;\">\n",
       "      <th></th>\n",
       "      <th>age</th>\n",
       "      <th>gender</th>\n",
       "      <th>height</th>\n",
       "      <th>weight</th>\n",
       "      <th>ap_hi</th>\n",
       "      <th>ap_lo</th>\n",
       "      <th>cholesterol</th>\n",
       "      <th>gluc</th>\n",
       "      <th>smoke</th>\n",
       "      <th>alco</th>\n",
       "      <th>active</th>\n",
       "      <th>cardio</th>\n",
       "      <th>bmi</th>\n",
       "    </tr>\n",
       "  </thead>\n",
       "  <tbody>\n",
       "    <tr>\n",
       "      <th>27384</th>\n",
       "      <td>42</td>\n",
       "      <td>1</td>\n",
       "      <td>80</td>\n",
       "      <td>178.0</td>\n",
       "      <td>140</td>\n",
       "      <td>90</td>\n",
       "      <td>3</td>\n",
       "      <td>3</td>\n",
       "      <td>0</td>\n",
       "      <td>0</td>\n",
       "      <td>1</td>\n",
       "      <td>1</td>\n",
       "      <td>278.1</td>\n",
       "    </tr>\n",
       "    <tr>\n",
       "      <th>8171</th>\n",
       "      <td>48</td>\n",
       "      <td>0</td>\n",
       "      <td>97</td>\n",
       "      <td>170.0</td>\n",
       "      <td>160</td>\n",
       "      <td>100</td>\n",
       "      <td>1</td>\n",
       "      <td>1</td>\n",
       "      <td>1</td>\n",
       "      <td>0</td>\n",
       "      <td>1</td>\n",
       "      <td>1</td>\n",
       "      <td>180.7</td>\n",
       "    </tr>\n",
       "    <tr>\n",
       "      <th>12770</th>\n",
       "      <td>54</td>\n",
       "      <td>1</td>\n",
       "      <td>75</td>\n",
       "      <td>168.0</td>\n",
       "      <td>120</td>\n",
       "      <td>80</td>\n",
       "      <td>1</td>\n",
       "      <td>1</td>\n",
       "      <td>1</td>\n",
       "      <td>0</td>\n",
       "      <td>1</td>\n",
       "      <td>1</td>\n",
       "      <td>298.7</td>\n",
       "    </tr>\n",
       "    <tr>\n",
       "      <th>15366</th>\n",
       "      <td>48</td>\n",
       "      <td>1</td>\n",
       "      <td>125</td>\n",
       "      <td>167.0</td>\n",
       "      <td>180</td>\n",
       "      <td>90</td>\n",
       "      <td>1</td>\n",
       "      <td>2</td>\n",
       "      <td>0</td>\n",
       "      <td>0</td>\n",
       "      <td>1</td>\n",
       "      <td>1</td>\n",
       "      <td>106.9</td>\n",
       "    </tr>\n",
       "    <tr>\n",
       "      <th>20028</th>\n",
       "      <td>54</td>\n",
       "      <td>1</td>\n",
       "      <td>112</td>\n",
       "      <td>167.0</td>\n",
       "      <td>180</td>\n",
       "      <td>120</td>\n",
       "      <td>1</td>\n",
       "      <td>1</td>\n",
       "      <td>0</td>\n",
       "      <td>1</td>\n",
       "      <td>1</td>\n",
       "      <td>0</td>\n",
       "      <td>133.1</td>\n",
       "    </tr>\n",
       "  </tbody>\n",
       "</table>\n",
       "</div>"
      ],
      "text/plain": [
       "       age  gender  height  weight  ap_hi  ap_lo  cholesterol  gluc  smoke  \\\n",
       "27384   42       1      80   178.0    140     90            3     3      0   \n",
       "8171    48       0      97   170.0    160    100            1     1      1   \n",
       "12770   54       1      75   168.0    120     80            1     1      1   \n",
       "15366   48       1     125   167.0    180     90            1     2      0   \n",
       "20028   54       1     112   167.0    180    120            1     1      0   \n",
       "\n",
       "       alco  active  cardio    bmi  \n",
       "27384     0       1       1  278.1  \n",
       "8171      0       1       1  180.7  \n",
       "12770     0       1       1  298.7  \n",
       "15366     0       1       1  106.9  \n",
       "20028     1       1       0  133.1  "
      ]
     },
     "execution_count": 16,
     "metadata": {},
     "output_type": "execute_result"
    }
   ],
   "source": [
    "raw_data[raw_data['bmi']>100].sort_values(by='weight',ascending=False).head(5)"
   ]
  },
  {
   "cell_type": "markdown",
   "id": "daa2bc47",
   "metadata": {
    "papermill": {
     "duration": 0.075784,
     "end_time": "2022-06-05T09:10:23.036357",
     "exception": false,
     "start_time": "2022-06-05T09:10:22.960573",
     "status": "completed"
    },
    "tags": []
   },
   "source": [
    "Further, we will remove extremely underweight and obese people because such cases seems impossible. Maybe it was a fake observation or typing mistake. Also, health conditions of dwarf and abnormally tall people are totally different so we do not want to include them."
   ]
  },
  {
   "cell_type": "code",
   "execution_count": 17,
   "id": "af4449d4",
   "metadata": {
    "_kg_hide-input": true,
    "execution": {
     "iopub.execute_input": "2022-06-05T09:10:23.207450Z",
     "iopub.status.busy": "2022-06-05T09:10:23.207121Z",
     "iopub.status.idle": "2022-06-05T09:10:23.220748Z",
     "shell.execute_reply": "2022-06-05T09:10:23.219795Z"
    },
    "papermill": {
     "duration": 0.09539,
     "end_time": "2022-06-05T09:10:23.223194",
     "exception": false,
     "start_time": "2022-06-05T09:10:23.127804",
     "status": "completed"
    },
    "tags": []
   },
   "outputs": [],
   "source": [
    "data= raw_data[(raw_data['bmi']>10) & (raw_data['bmi']<100)].copy()"
   ]
  },
  {
   "cell_type": "code",
   "execution_count": 18,
   "id": "edeeaef4",
   "metadata": {
    "_kg_hide-input": true,
    "execution": {
     "iopub.execute_input": "2022-06-05T09:10:23.378766Z",
     "iopub.status.busy": "2022-06-05T09:10:23.378468Z",
     "iopub.status.idle": "2022-06-05T09:10:23.606696Z",
     "shell.execute_reply": "2022-06-05T09:10:23.605747Z"
    },
    "papermill": {
     "duration": 0.308697,
     "end_time": "2022-06-05T09:10:23.609092",
     "exception": false,
     "start_time": "2022-06-05T09:10:23.300395",
     "status": "completed"
    },
    "tags": []
   },
   "outputs": [
    {
     "data": {
      "image/png": "[encoded data removed]",
      "text/plain": [
       "<Figure size 792x576 with 1 Axes>"
      ]
     },
     "metadata": {},
     "output_type": "display_data"
    }
   ],
   "source": [
    "sns.boxplot(data.bmi,color='Green')\n",
    "plt.title('Distribution of BMI');"
   ]
  },
  {
   "cell_type": "code",
   "execution_count": 19,
   "id": "000fbded",
   "metadata": {
    "_kg_hide-input": true,
    "execution": {
     "iopub.execute_input": "2022-06-05T09:10:23.766222Z",
     "iopub.status.busy": "2022-06-05T09:10:23.765364Z",
     "iopub.status.idle": "2022-06-05T09:10:23.773700Z",
     "shell.execute_reply": "2022-06-05T09:10:23.772662Z"
    },
    "papermill": {
     "duration": 0.089358,
     "end_time": "2022-06-05T09:10:23.776233",
     "exception": false,
     "start_time": "2022-06-05T09:10:23.686875",
     "status": "completed"
    },
    "tags": []
   },
   "outputs": [],
   "source": [
    "data.drop(['weight','height'],axis=1,inplace=True)"
   ]
  },
  {
   "cell_type": "code",
   "execution_count": 20,
   "id": "b60ea440",
   "metadata": {
    "_kg_hide-input": true,
    "execution": {
     "iopub.execute_input": "2022-06-05T09:10:23.933821Z",
     "iopub.status.busy": "2022-06-05T09:10:23.933032Z",
     "iopub.status.idle": "2022-06-05T09:10:24.397909Z",
     "shell.execute_reply": "2022-06-05T09:10:24.396831Z"
    },
    "papermill": {
     "duration": 0.546341,
     "end_time": "2022-06-05T09:10:24.400442",
     "exception": false,
     "start_time": "2022-06-05T09:10:23.854101",
     "status": "completed"
    },
    "tags": []
   },
   "outputs": [
    {
     "name": "stdout",
     "output_type": "stream",
     "text": [
      "Observations have been recorded mostly for people with age between 40 and 65\n"
     ]
    },
    {
     "data": {
      "image/png": "[encoded data removed]",
      "text/plain": [
       "<Figure size 792x576 with 1 Axes>"
      ]
     },
     "metadata": {},
     "output_type": "display_data"
    }
   ],
   "source": [
    "sns.violinplot(data.age,color='orange')\n",
    "print(\"Observations have been recorded mostly for people with age between 40 and 65\");"
   ]
  },
  {
   "cell_type": "markdown",
   "id": "3c73a720",
   "metadata": {
    "papermill": {
     "duration": 0.080096,
     "end_time": "2022-06-05T09:10:24.559425",
     "exception": false,
     "start_time": "2022-06-05T09:10:24.479329",
     "status": "completed"
    },
    "tags": []
   },
   "source": [
    "Now, I will remove outliers and abrupt blood pressure values."
   ]
  },
  {
   "cell_type": "code",
   "execution_count": 21,
   "id": "fa25da78",
   "metadata": {
    "execution": {
     "iopub.execute_input": "2022-06-05T09:10:24.721274Z",
     "iopub.status.busy": "2022-06-05T09:10:24.720948Z",
     "iopub.status.idle": "2022-06-05T09:10:24.729793Z",
     "shell.execute_reply": "2022-06-05T09:10:24.728814Z"
    },
    "papermill": {
     "duration": 0.09213,
     "end_time": "2022-06-05T09:10:24.731984",
     "exception": false,
     "start_time": "2022-06-05T09:10:24.639854",
     "status": "completed"
    },
    "tags": []
   },
   "outputs": [
    {
     "data": {
      "text/plain": [
       "952"
      ]
     },
     "execution_count": 21,
     "metadata": {},
     "output_type": "execute_result"
    }
   ],
   "source": [
    "(data['ap_lo']>360).sum()"
   ]
  },
  {
   "cell_type": "code",
   "execution_count": 22,
   "id": "848110bc",
   "metadata": {
    "execution": {
     "iopub.execute_input": "2022-06-05T09:10:24.893382Z",
     "iopub.status.busy": "2022-06-05T09:10:24.892491Z",
     "iopub.status.idle": "2022-06-05T09:10:24.900905Z",
     "shell.execute_reply": "2022-06-05T09:10:24.899876Z"
    },
    "papermill": {
     "duration": 0.090784,
     "end_time": "2022-06-05T09:10:24.903136",
     "exception": false,
     "start_time": "2022-06-05T09:10:24.812352",
     "status": "completed"
    },
    "tags": []
   },
   "outputs": [
    {
     "data": {
      "text/plain": [
       "39"
      ]
     },
     "execution_count": 22,
     "metadata": {},
     "output_type": "execute_result"
    }
   ],
   "source": [
    "(data['ap_hi']>360).sum()"
   ]
  },
  {
   "cell_type": "code",
   "execution_count": 23,
   "id": "df8d28cf",
   "metadata": {
    "execution": {
     "iopub.execute_input": "2022-06-05T09:10:25.068336Z",
     "iopub.status.busy": "2022-06-05T09:10:25.067674Z",
     "iopub.status.idle": "2022-06-05T09:10:25.088294Z",
     "shell.execute_reply": "2022-06-05T09:10:25.087201Z"
    },
    "papermill": {
     "duration": 0.10814,
     "end_time": "2022-06-05T09:10:25.090781",
     "exception": false,
     "start_time": "2022-06-05T09:10:24.982641",
     "status": "completed"
    },
    "tags": []
   },
   "outputs": [],
   "source": [
    "data= data[(data['ap_lo']<360) & (data['ap_hi']<360)].copy()\n",
    "data= data[(data['ap_lo']>20) & (data['ap_hi']>20)].copy()\n",
    "data= data[data['ap_hi']>data['ap_lo']]"
   ]
  },
  {
   "cell_type": "code",
   "execution_count": 24,
   "id": "61f1759f",
   "metadata": {
    "execution": {
     "iopub.execute_input": "2022-06-05T09:10:25.253535Z",
     "iopub.status.busy": "2022-06-05T09:10:25.253243Z",
     "iopub.status.idle": "2022-06-05T09:10:25.713639Z",
     "shell.execute_reply": "2022-06-05T09:10:25.712619Z"
    },
    "papermill": {
     "duration": 0.545336,
     "end_time": "2022-06-05T09:10:25.716059",
     "exception": false,
     "start_time": "2022-06-05T09:10:25.170723",
     "status": "completed"
    },
    "tags": []
   },
   "outputs": [
    {
     "data": {
      "image/png": "[encoded data removed]",
      "text/plain": [
       "<Figure size 792x576 with 1 Axes>"
      ]
     },
     "metadata": {},
     "output_type": "display_data"
    }
   ],
   "source": [
    "sns.violinplot(data.ap_hi,color='orange');"
   ]
  },
  {
   "cell_type": "code",
   "execution_count": 25,
   "id": "3798831c",
   "metadata": {
    "execution": {
     "iopub.execute_input": "2022-06-05T09:10:25.880677Z",
     "iopub.status.busy": "2022-06-05T09:10:25.879859Z",
     "iopub.status.idle": "2022-06-05T09:10:26.503167Z",
     "shell.execute_reply": "2022-06-05T09:10:26.501011Z"
    },
    "papermill": {
     "duration": 0.709085,
     "end_time": "2022-06-05T09:10:26.506517",
     "exception": false,
     "start_time": "2022-06-05T09:10:25.797432",
     "status": "completed"
    },
    "tags": []
   },
   "outputs": [
    {
     "data": {
      "image/png": "[encoded data removed]",
      "text/plain": [
       "<Figure size 792x576 with 1 Axes>"
      ]
     },
     "metadata": {},
     "output_type": "display_data"
    }
   ],
   "source": [
    "sns.violinplot(data.ap_lo,color='orange');"
   ]
  },
  {
   "cell_type": "code",
   "execution_count": 26,
   "id": "fc1c1a67",
   "metadata": {
    "execution": {
     "iopub.execute_input": "2022-06-05T09:10:26.798413Z",
     "iopub.status.busy": "2022-06-05T09:10:26.798018Z",
     "iopub.status.idle": "2022-06-05T09:10:27.523885Z",
     "shell.execute_reply": "2022-06-05T09:10:27.522795Z"
    },
    "papermill": {
     "duration": 0.877038,
     "end_time": "2022-06-05T09:10:27.526012",
     "exception": false,
     "start_time": "2022-06-05T09:10:26.648974",
     "status": "completed"
    },
    "tags": []
   },
   "outputs": [
    {
     "data": {
      "image/png": "[encoded data removed]",
      "text/plain": [
       "<Figure size 792x576 with 1 Axes>"
      ]
     },
     "metadata": {},
     "output_type": "display_data"
    }
   ],
   "source": [
    "df_categorical = raw_data.loc[:,['cholesterol','gluc', 'smoke', 'alco', 'active']]\n",
    "sns.countplot(x=\"variable\", hue=\"value\",data= pd.melt(df_categorical));"
   ]
  },
  {
   "cell_type": "code",
   "execution_count": 27,
   "id": "3b142c55",
   "metadata": {
    "execution": {
     "iopub.execute_input": "2022-06-05T09:10:27.696625Z",
     "iopub.status.busy": "2022-06-05T09:10:27.696330Z",
     "iopub.status.idle": "2022-06-05T09:10:29.378983Z",
     "shell.execute_reply": "2022-06-05T09:10:29.377814Z"
    },
    "papermill": {
     "duration": 1.770993,
     "end_time": "2022-06-05T09:10:29.381602",
     "exception": false,
     "start_time": "2022-06-05T09:10:27.610609",
     "status": "completed"
    },
    "tags": []
   },
   "outputs": [
    {
     "data": {
      "image/png": "[encoded data removed]",
      "text/plain": [
       "<Figure size 766.6x360 with 2 Axes>"
      ]
     },
     "metadata": {},
     "output_type": "display_data"
    }
   ],
   "source": [
    "df_long = pd.melt(raw_data, id_vars=['cardio'], value_vars=['cholesterol','gluc', 'smoke', 'alco', 'active'])\n",
    "sns.catplot(x=\"variable\", hue=\"value\", col=\"cardio\",\n",
    "                data=df_long, kind=\"count\");"
   ]
  },
  {
   "cell_type": "markdown",
   "id": "d96f7df6",
   "metadata": {
    "papermill": {
     "duration": 0.083202,
     "end_time": "2022-06-05T09:10:29.551327",
     "exception": false,
     "start_time": "2022-06-05T09:10:29.468125",
     "status": "completed"
    },
    "tags": []
   },
   "source": [
    "It can be clearly seen that patients with CVD have higher cholesterol and blood glucose level. And, generally speaking less active."
   ]
  },
  {
   "cell_type": "code",
   "execution_count": 28,
   "id": "131ac3c8",
   "metadata": {
    "execution": {
     "iopub.execute_input": "2022-06-05T09:10:29.726528Z",
     "iopub.status.busy": "2022-06-05T09:10:29.726227Z",
     "iopub.status.idle": "2022-06-05T09:10:29.735019Z",
     "shell.execute_reply": "2022-06-05T09:10:29.733940Z"
    },
    "papermill": {
     "duration": 0.09909,
     "end_time": "2022-06-05T09:10:29.737528",
     "exception": false,
     "start_time": "2022-06-05T09:10:29.638438",
     "status": "completed"
    },
    "tags": []
   },
   "outputs": [
    {
     "data": {
      "text/plain": [
       "1    42540\n",
       "0    23641\n",
       "Name: gender, dtype: int64"
      ]
     },
     "execution_count": 28,
     "metadata": {},
     "output_type": "execute_result"
    }
   ],
   "source": [
    "raw_data.gender.value_counts()"
   ]
  },
  {
   "cell_type": "markdown",
   "id": "085ab2e3",
   "metadata": {
    "papermill": {
     "duration": 0.08526,
     "end_time": "2022-06-05T09:10:29.907508",
     "exception": false,
     "start_time": "2022-06-05T09:10:29.822248",
     "status": "completed"
    },
    "tags": []
   },
   "source": [
    "Who more often report consuming alcohol - men or women?"
   ]
  },
  {
   "cell_type": "code",
   "execution_count": 29,
   "id": "4d865c1d",
   "metadata": {
    "execution": {
     "iopub.execute_input": "2022-06-05T09:10:30.101526Z",
     "iopub.status.busy": "2022-06-05T09:10:30.101226Z",
     "iopub.status.idle": "2022-06-05T09:10:30.305247Z",
     "shell.execute_reply": "2022-06-05T09:10:30.304173Z"
    },
    "papermill": {
     "duration": 0.312888,
     "end_time": "2022-06-05T09:10:30.307657",
     "exception": false,
     "start_time": "2022-06-05T09:10:29.994769",
     "status": "completed"
    },
    "tags": []
   },
   "outputs": [
    {
     "data": {
      "image/png": "[encoded data removed]",
      "text/plain": [
       "<Figure size 792x576 with 1 Axes>"
      ]
     },
     "metadata": {},
     "output_type": "display_data"
    }
   ],
   "source": [
    "df_alco = raw_data.groupby('gender')['alco'].sum()\n",
    "raw_data_2 = raw_data[(raw_data['alco']==1)].copy()\n",
    "sns.countplot(raw_data_2.gender, palette=\"Set3\");"
   ]
  },
  {
   "cell_type": "code",
   "execution_count": 30,
   "id": "19012fd5",
   "metadata": {
    "execution": {
     "iopub.execute_input": "2022-06-05T09:10:30.483060Z",
     "iopub.status.busy": "2022-06-05T09:10:30.482683Z",
     "iopub.status.idle": "2022-06-05T09:10:30.515531Z",
     "shell.execute_reply": "2022-06-05T09:10:30.514221Z"
    },
    "papermill": {
     "duration": 0.124006,
     "end_time": "2022-06-05T09:10:30.518218",
     "exception": false,
     "start_time": "2022-06-05T09:10:30.394212",
     "status": "completed"
    },
    "tags": []
   },
   "outputs": [
    {
     "data": {
      "text/html": [
       "<div>\n",
       "<style scoped>\n",
       "    .dataframe tbody tr th:only-of-type {\n",
       "        vertical-align: middle;\n",
       "    }\n",
       "\n",
       "    .dataframe tbody tr th {\n",
       "        vertical-align: top;\n",
       "    }\n",
       "\n",
       "    .dataframe thead th {\n",
       "        text-align: right;\n",
       "    }\n",
       "</style>\n",
       "<table border=\"1\" class=\"dataframe\">\n",
       "  <thead>\n",
       "    <tr style=\"text-align: right;\">\n",
       "      <th>gender</th>\n",
       "      <th>0</th>\n",
       "      <th>1</th>\n",
       "    </tr>\n",
       "    <tr>\n",
       "      <th>cardio</th>\n",
       "      <th></th>\n",
       "      <th></th>\n",
       "    </tr>\n",
       "  </thead>\n",
       "  <tbody>\n",
       "    <tr>\n",
       "      <th>0</th>\n",
       "      <td>0.173433</td>\n",
       "      <td>0.312975</td>\n",
       "    </tr>\n",
       "    <tr>\n",
       "      <th>1</th>\n",
       "      <td>0.183784</td>\n",
       "      <td>0.329808</td>\n",
       "    </tr>\n",
       "  </tbody>\n",
       "</table>\n",
       "</div>"
      ],
      "text/plain": [
       "gender         0         1\n",
       "cardio                    \n",
       "0       0.173433  0.312975\n",
       "1       0.183784  0.329808"
      ]
     },
     "execution_count": 30,
     "metadata": {},
     "output_type": "execute_result"
    }
   ],
   "source": [
    "pd.crosstab(raw_data['cardio'],raw_data['gender'],normalize=True)"
   ]
  },
  {
   "cell_type": "code",
   "execution_count": 31,
   "id": "e99e3397",
   "metadata": {
    "execution": {
     "iopub.execute_input": "2022-06-05T09:10:30.693590Z",
     "iopub.status.busy": "2022-06-05T09:10:30.692791Z",
     "iopub.status.idle": "2022-06-05T09:10:30.743778Z",
     "shell.execute_reply": "2022-06-05T09:10:30.742745Z"
    },
    "papermill": {
     "duration": 0.140949,
     "end_time": "2022-06-05T09:10:30.746038",
     "exception": false,
     "start_time": "2022-06-05T09:10:30.605089",
     "status": "completed"
    },
    "tags": []
   },
   "outputs": [
    {
     "data": {
      "text/html": [
       "<div>\n",
       "<style scoped>\n",
       "    .dataframe tbody tr th:only-of-type {\n",
       "        vertical-align: middle;\n",
       "    }\n",
       "\n",
       "    .dataframe tbody tr th {\n",
       "        vertical-align: top;\n",
       "    }\n",
       "\n",
       "    .dataframe thead th {\n",
       "        text-align: right;\n",
       "    }\n",
       "</style>\n",
       "<table border=\"1\" class=\"dataframe\">\n",
       "  <thead>\n",
       "    <tr style=\"text-align: right;\">\n",
       "      <th></th>\n",
       "      <th>age</th>\n",
       "      <th>gender</th>\n",
       "      <th>ap_hi</th>\n",
       "      <th>ap_lo</th>\n",
       "      <th>smoke</th>\n",
       "      <th>alco</th>\n",
       "      <th>active</th>\n",
       "      <th>cardio</th>\n",
       "      <th>bmi</th>\n",
       "      <th>cholesterol_normal</th>\n",
       "      <th>cholesterol_well above normal</th>\n",
       "      <th>gluc_normal</th>\n",
       "      <th>gluc_well above normal</th>\n",
       "    </tr>\n",
       "  </thead>\n",
       "  <tbody>\n",
       "    <tr>\n",
       "      <th>0</th>\n",
       "      <td>50</td>\n",
       "      <td>0</td>\n",
       "      <td>110</td>\n",
       "      <td>80</td>\n",
       "      <td>0</td>\n",
       "      <td>0</td>\n",
       "      <td>1</td>\n",
       "      <td>0</td>\n",
       "      <td>22.0</td>\n",
       "      <td>1</td>\n",
       "      <td>0</td>\n",
       "      <td>1</td>\n",
       "      <td>0</td>\n",
       "    </tr>\n",
       "    <tr>\n",
       "      <th>1</th>\n",
       "      <td>55</td>\n",
       "      <td>1</td>\n",
       "      <td>140</td>\n",
       "      <td>90</td>\n",
       "      <td>0</td>\n",
       "      <td>0</td>\n",
       "      <td>1</td>\n",
       "      <td>1</td>\n",
       "      <td>34.9</td>\n",
       "      <td>0</td>\n",
       "      <td>1</td>\n",
       "      <td>1</td>\n",
       "      <td>0</td>\n",
       "    </tr>\n",
       "    <tr>\n",
       "      <th>2</th>\n",
       "      <td>52</td>\n",
       "      <td>1</td>\n",
       "      <td>130</td>\n",
       "      <td>70</td>\n",
       "      <td>0</td>\n",
       "      <td>0</td>\n",
       "      <td>0</td>\n",
       "      <td>1</td>\n",
       "      <td>23.5</td>\n",
       "      <td>0</td>\n",
       "      <td>1</td>\n",
       "      <td>1</td>\n",
       "      <td>0</td>\n",
       "    </tr>\n",
       "    <tr>\n",
       "      <th>3</th>\n",
       "      <td>48</td>\n",
       "      <td>0</td>\n",
       "      <td>150</td>\n",
       "      <td>100</td>\n",
       "      <td>0</td>\n",
       "      <td>0</td>\n",
       "      <td>1</td>\n",
       "      <td>1</td>\n",
       "      <td>28.7</td>\n",
       "      <td>1</td>\n",
       "      <td>0</td>\n",
       "      <td>1</td>\n",
       "      <td>0</td>\n",
       "    </tr>\n",
       "    <tr>\n",
       "      <th>4</th>\n",
       "      <td>48</td>\n",
       "      <td>1</td>\n",
       "      <td>100</td>\n",
       "      <td>60</td>\n",
       "      <td>0</td>\n",
       "      <td>0</td>\n",
       "      <td>0</td>\n",
       "      <td>0</td>\n",
       "      <td>23.0</td>\n",
       "      <td>1</td>\n",
       "      <td>0</td>\n",
       "      <td>1</td>\n",
       "      <td>0</td>\n",
       "    </tr>\n",
       "  </tbody>\n",
       "</table>\n",
       "</div>"
      ],
      "text/plain": [
       "   age  gender  ap_hi  ap_lo  smoke  alco  active  cardio   bmi  \\\n",
       "0   50       0    110     80      0     0       1       0  22.0   \n",
       "1   55       1    140     90      0     0       1       1  34.9   \n",
       "2   52       1    130     70      0     0       0       1  23.5   \n",
       "3   48       0    150    100      0     0       1       1  28.7   \n",
       "4   48       1    100     60      0     0       0       0  23.0   \n",
       "\n",
       "   cholesterol_normal  cholesterol_well above normal  gluc_normal  \\\n",
       "0                   1                              0            1   \n",
       "1                   0                              1            1   \n",
       "2                   0                              1            1   \n",
       "3                   1                              0            1   \n",
       "4                   1                              0            1   \n",
       "\n",
       "   gluc_well above normal  \n",
       "0                       0  \n",
       "1                       0  \n",
       "2                       0  \n",
       "3                       0  \n",
       "4                       0  "
      ]
     },
     "execution_count": 31,
     "metadata": {},
     "output_type": "execute_result"
    }
   ],
   "source": [
    "#creating dummy variables for categorical column\n",
    "data['cholesterol']=data['cholesterol'].map({ 1: 'normal', 2: 'above normal', 3: 'well above normal'})\n",
    "data['gluc']=data['gluc'].map({ 1: 'normal', 2: 'above normal', 3: 'well above normal'})\n",
    "dummies = pd.get_dummies(data[['cholesterol','gluc']],drop_first=True)\n",
    "final_data = pd.concat([data,dummies],axis=1)\n",
    "final_data.drop(['cholesterol','gluc'],axis=1,inplace=True)\n",
    "final_data.head()"
   ]
  },
  {
   "cell_type": "code",
   "execution_count": 32,
   "id": "81e60bb8",
   "metadata": {
    "_kg_hide-input": true,
    "execution": {
     "iopub.execute_input": "2022-06-05T09:10:30.924843Z",
     "iopub.status.busy": "2022-06-05T09:10:30.924535Z",
     "iopub.status.idle": "2022-06-05T09:10:35.813616Z",
     "shell.execute_reply": "2022-06-05T09:10:35.812612Z"
    },
    "papermill": {
     "duration": 4.98467,
     "end_time": "2022-06-05T09:10:35.817029",
     "exception": false,
     "start_time": "2022-06-05T09:10:30.832359",
     "status": "completed"
    },
    "tags": []
   },
   "outputs": [
    {
     "data": {
      "text/html": [
       "        <script type=\"text/javascript\">\n",
       "        window.PlotlyConfig = {MathJaxConfig: 'local'};\n",
       "        if (window.MathJax && window.MathJax.Hub && window.MathJax.Hub.Config) {window.MathJax.Hub.Config({SVG: {font: \"STIX-Web\"}});}\n",
       "        if (typeof require !== 'undefined') {\n",
       "        require.undef(\"plotly\");\n",
       "        requirejs.config({\n",
       "            paths: {\n",
       "                'plotly': ['https://cdn.plot.ly/plotly-2.12.1.min']\n",
       "            }\n",
       "        });\n",
       "        require(['plotly'], function(Plotly) {\n",
       "            window._Plotly = Plotly;\n",
       "        });\n",
       "        }\n",
       "        </script>\n",
       "        "
      ]
     },
     "metadata": {},
     "output_type": "display_data"
    },
    {
     "data": {
      "text/html": [
       "        <script type=\"text/javascript\">\n",
       "        window.PlotlyConfig = {MathJaxConfig: 'local'};\n",
       "        if (window.MathJax && window.MathJax.Hub && window.MathJax.Hub.Config) {window.MathJax.Hub.Config({SVG: {font: \"STIX-Web\"}});}\n",
       "        if (typeof require !== 'undefined') {\n",
       "        require.undef(\"plotly\");\n",
       "        requirejs.config({\n",
       "            paths: {\n",
       "                'plotly': ['https://cdn.plot.ly/plotly-2.12.1.min']\n",
       "            }\n",
       "        });\n",
       "        require(['plotly'], function(Plotly) {\n",
       "            window._Plotly = Plotly;\n",
       "        });\n",
       "        }\n",
       "        </script>\n",
       "        "
      ]
     },
     "metadata": {},
     "output_type": "display_data"
    },
    {
     "name": "stdout",
     "output_type": "stream",
     "text": [
      "Correlation of features with target variable\n"
     ]
    },
    {
     "data": {
      "application/vnd.plotly.v1+json": {
       "config": {
        "linkText": "Export to plot.ly",
        "plotlyServerURL": "https://plot.ly",
        "showLink": true
       },
       "data": [
        {
         "marker": {
          "color": "rgba(255, 153, 51, 0.6)",
          "line": {
           "color": "rgba(255, 153, 51, 1.0)",
           "width": 1
          }
         },
         "name": "cardio",
         "orientation": "h",
         "text": "",
         "type": "bar",
         "x": [
          -0.1957335661815488,
          -0.08175619913501389,
          -0.029125118231117627,
          -0.02455859976549133,
          -0.015521254996837168,
          -0.0004359699758478596,
          0.06393028058920851,
          0.1802850808742155,
          0.18807783259078212,
          0.23552829127624542,
          0.340549443913632,
          0.4265026764166369
         ],
         "y": [
          "cholesterol_normal",
          "gluc_normal",
          "active",
          "smoke",
          "alco",
          "gender",
          "gluc_well above normal",
          "bmi",
          "cholesterol_well above normal",
          "age",
          "ap_lo",
          "ap_hi"
         ]
        }
       ],
       "layout": {
        "legend": {
         "bgcolor": "#F5F6F9",
         "font": {
          "color": "#4D5663"
         }
        },
        "paper_bgcolor": "#F5F6F9",
        "plot_bgcolor": "#F5F6F9",
        "template": {
         "data": {
          "bar": [
           {
            "error_x": {
             "color": "#2a3f5f"
            },
            "error_y": {
             "color": "#2a3f5f"
            },
            "marker": {
             "line": {
              "color": "#E5ECF6",
              "width": 0.5
             },
             "pattern": {
              "fillmode": "overlay",
              "size": 10,
              "solidity": 0.2
             }
            },
            "type": "bar"
           }
          ],
          "barpolar": [
           {
            "marker": {
             "line": {
              "color": "#E5ECF6",
              "width": 0.5
             },
             "pattern": {
              "fillmode": "overlay",
              "size": 10,
              "solidity": 0.2
             }
            },
            "type": "barpolar"
           }
          ],
          "carpet": [
           {
            "aaxis": {
             "endlinecolor": "#2a3f5f",
             "gridcolor": "white",
             "linecolor": "white",
             "minorgridcolor": "white",
             "startlinecolor": "#2a3f5f"
            },
            "baxis": {
             "endlinecolor": "#2a3f5f",
             "gridcolor": "white",
             "linecolor": "white",
             "minorgridcolor": "white",
             "startlinecolor": "#2a3f5f"
            },
            "type": "carpet"
           }
          ],
          "choropleth": [
           {
            "colorbar": {
             "outlinewidth": 0,
             "ticks": ""
            },
            "type": "choropleth"
           }
          ],
          "contour": [
           {
            "colorbar": {
             "outlinewidth": 0,
             "ticks": ""
            },
            "colorscale": [
             [
              0.0,
              "#0d0887"
             ],
             [
              0.1111111111111111,
              "#46039f"
             ],
             [
              0.2222222222222222,
              "#7201a8"
             ],
             [
              0.3333333333333333,
              "#9c179e"
             ],
             [
              0.4444444444444444,
              "#bd3786"
             ],
             [
              0.5555555555555556,
              "#d8576b"
             ],
             [
              0.6666666666666666,
              "#ed7953"
             ],
             [
              0.7777777777777778,
              "#fb9f3a"
             ],
             [
              0.8888888888888888,
              "#fdca26"
             ],
             [
              1.0,
              "#f0f921"
             ]
            ],
            "type": "contour"
           }
          ],
          "contourcarpet": [
           {
            "colorbar": {
             "outlinewidth": 0,
             "ticks": ""
            },
            "type": "contourcarpet"
           }
          ],
          "heatmap": [
           {
            "colorbar": {
             "outlinewidth": 0,
             "ticks": ""
            },
            "colorscale": [
             [
              0.0,
              "#0d0887"
             ],
             [
              0.1111111111111111,
              "#46039f"
             ],
             [
              0.2222222222222222,
              "#7201a8"
             ],
             [
              0.3333333333333333,
              "#9c179e"
             ],
             [
              0.4444444444444444,
              "#bd3786"
             ],
             [
              0.5555555555555556,
              "#d8576b"
             ],
             [
              0.6666666666666666,
              "#ed7953"
             ],
             [
              0.7777777777777778,
              "#fb9f3a"
             ],
             [
              0.8888888888888888,
              "#fdca26"
             ],
             [
              1.0,
              "#f0f921"
             ]
            ],
            "type": "heatmap"
           }
          ],
          "heatmapgl": [
           {
            "colorbar": {
             "outlinewidth": 0,
             "ticks": ""
            },
            "colorscale": [
             [
              0.0,
              "#0d0887"
             ],
             [
              0.1111111111111111,
              "#46039f"
             ],
             [
              0.2222222222222222,
              "#7201a8"
             ],
             [
              0.3333333333333333,
              "#9c179e"
             ],
             [
              0.4444444444444444,
              "#bd3786"
             ],
             [
              0.5555555555555556,
              "#d8576b"
             ],
             [
              0.6666666666666666,
              "#ed7953"
             ],
             [
              0.7777777777777778,
              "#fb9f3a"
             ],
             [
              0.8888888888888888,
              "#fdca26"
             ],
             [
              1.0,
              "#f0f921"
             ]
            ],
            "type": "heatmapgl"
           }
          ],
          "histogram": [
           {
            "marker": {
             "pattern": {
              "fillmode": "overlay",
              "size": 10,
              "solidity": 0.2
             }
            },
            "type": "histogram"
           }
          ],
          "histogram2d": [
           {
            "colorbar": {
             "outlinewidth": 0,
             "ticks": ""
            },
            "colorscale": [
             [
              0.0,
              "#0d0887"
             ],
             [
              0.1111111111111111,
              "#46039f"
             ],
             [
              0.2222222222222222,
              "#7201a8"
             ],
             [
              0.3333333333333333,
              "#9c179e"
             ],
             [
              0.4444444444444444,
              "#bd3786"
             ],
             [
              0.5555555555555556,
              "#d8576b"
             ],
             [
              0.6666666666666666,
              "#ed7953"
             ],
             [
              0.7777777777777778,
              "#fb9f3a"
             ],
             [
              0.8888888888888888,
              "#fdca26"
             ],
             [
              1.0,
              "#f0f921"
             ]
            ],
            "type": "histogram2d"
           }
          ],
          "histogram2dcontour": [
           {
            "colorbar": {
             "outlinewidth": 0,
             "ticks": ""
            },
            "colorscale": [
             [
              0.0,
              "#0d0887"
             ],
             [
              0.1111111111111111,
              "#46039f"
             ],
             [
              0.2222222222222222,
              "#7201a8"
             ],
             [
              0.3333333333333333,
              "#9c179e"
             ],
             [
              0.4444444444444444,
              "#bd3786"
             ],
             [
              0.5555555555555556,
              "#d8576b"
             ],
             [
              0.6666666666666666,
              "#ed7953"
             ],
             [
              0.7777777777777778,
              "#fb9f3a"
             ],
             [
              0.8888888888888888,
              "#fdca26"
             ],
             [
              1.0,
              "#f0f921"
             ]
            ],
            "type": "histogram2dcontour"
           }
          ],
          "mesh3d": [
           {
            "colorbar": {
             "outlinewidth": 0,
             "ticks": ""
            },
            "type": "mesh3d"
           }
          ],
          "parcoords": [
           {
            "line": {
             "colorbar": {
              "outlinewidth": 0,
              "ticks": ""
             }
            },
            "type": "parcoords"
           }
          ],
          "pie": [
           {
            "automargin": true,
            "type": "pie"
           }
          ],
          "scatter": [
           {
            "fillpattern": {
             "fillmode": "overlay",
             "size": 10,
             "solidity": 0.2
            },
            "type": "scatter"
           }
          ],
          "scatter3d": [
           {
            "line": {
             "colorbar": {
              "outlinewidth": 0,
              "ticks": ""
             }
            },
            "marker": {
             "colorbar": {
              "outlinewidth": 0,
              "ticks": ""
             }
            },
            "type": "scatter3d"
           }
          ],
          "scattercarpet": [
           {
            "marker": {
             "colorbar": {
              "outlinewidth": 0,
              "ticks": ""
             }
            },
            "type": "scattercarpet"
           }
          ],
          "scattergeo": [
           {
            "marker": {
             "colorbar": {
              "outlinewidth": 0,
              "ticks": ""
             }
            },
            "type": "scattergeo"
           }
          ],
          "scattergl": [
           {
            "marker": {
             "colorbar": {
              "outlinewidth": 0,
              "ticks": ""
             }
            },
            "type": "scattergl"
           }
          ],
          "scattermapbox": [
           {
            "marker": {
             "colorbar": {
              "outlinewidth": 0,
              "ticks": ""
             }
            },
            "type": "scattermapbox"
           }
          ],
          "scatterpolar": [
           {
            "marker": {
             "colorbar": {
              "outlinewidth": 0,
              "ticks": ""
             }
            },
            "type": "scatterpolar"
           }
          ],
          "scatterpolargl": [
           {
            "marker": {
             "colorbar": {
              "outlinewidth": 0,
              "ticks": ""
             }
            },
            "type": "scatterpolargl"
           }
          ],
          "scatterternary": [
           {
            "marker": {
             "colorbar": {
              "outlinewidth": 0,
              "ticks": ""
             }
            },
            "type": "scatterternary"
           }
          ],
          "surface": [
           {
            "colorbar": {
             "outlinewidth": 0,
             "ticks": ""
            },
            "colorscale": [
             [
              0.0,
              "#0d0887"
             ],
             [
              0.1111111111111111,
              "#46039f"
             ],
             [
              0.2222222222222222,
              "#7201a8"
             ],
             [
              0.3333333333333333,
              "#9c179e"
             ],
             [
              0.4444444444444444,
              "#bd3786"
             ],
             [
              0.5555555555555556,
              "#d8576b"
             ],
             [
              0.6666666666666666,
              "#ed7953"
             ],
             [
              0.7777777777777778,
              "#fb9f3a"
             ],
             [
              0.8888888888888888,
              "#fdca26"
             ],
             [
              1.0,
              "#f0f921"
             ]
            ],
            "type": "surface"
           }
          ],
          "table": [
           {
            "cells": {
             "fill": {
              "color": "#EBF0F8"
             },
             "line": {
              "color": "white"
             }
            },
            "header": {
             "fill": {
              "color": "#C8D4E3"
             },
             "line": {
              "color": "white"
             }
            },
            "type": "table"
           }
          ]
         },
         "layout": {
          "annotationdefaults": {
           "arrowcolor": "#2a3f5f",
           "arrowhead": 0,
           "arrowwidth": 1
          },
          "autotypenumbers": "strict",
          "coloraxis": {
           "colorbar": {
            "outlinewidth": 0,
            "ticks": ""
           }
          },
          "colorscale": {
           "diverging": [
            [
             0,
             "#8e0152"
            ],
            [
             0.1,
             "#c51b7d"
            ],
            [
             0.2,
             "#de77ae"
            ],
            [
             0.3,
             "#f1b6da"
            ],
            [
             0.4,
             "#fde0ef"
            ],
            [
             0.5,
             "#f7f7f7"
            ],
            [
             0.6,
             "#e6f5d0"
            ],
            [
             0.7,
             "#b8e186"
            ],
            [
             0.8,
             "#7fbc41"
            ],
            [
             0.9,
             "#4d9221"
            ],
            [
             1,
             "#276419"
            ]
           ],
           "sequential": [
            [
             0.0,
             "#0d0887"
            ],
            [
             0.1111111111111111,
             "#46039f"
            ],
            [
             0.2222222222222222,
             "#7201a8"
            ],
            [
             0.3333333333333333,
             "#9c179e"
            ],
            [
             0.4444444444444444,
             "#bd3786"
            ],
            [
             0.5555555555555556,
             "#d8576b"
            ],
            [
             0.6666666666666666,
             "#ed7953"
            ],
            [
             0.7777777777777778,
             "#fb9f3a"
            ],
            [
             0.8888888888888888,
             "#fdca26"
            ],
            [
             1.0,
             "#f0f921"
            ]
           ],
           "sequentialminus": [
            [
             0.0,
             "#0d0887"
            ],
            [
             0.1111111111111111,
             "#46039f"
            ],
            [
             0.2222222222222222,
             "#7201a8"
            ],
            [
             0.3333333333333333,
             "#9c179e"
            ],
            [
             0.4444444444444444,
             "#bd3786"
            ],
            [
             0.5555555555555556,
             "#d8576b"
            ],
            [
             0.6666666666666666,
             "#ed7953"
            ],
            [
             0.7777777777777778,
             "#fb9f3a"
            ],
            [
             0.8888888888888888,
             "#fdca26"
            ],
            [
             1.0,
             "#f0f921"
            ]
           ]
          },
          "colorway": [
           "#636efa",
           "#EF553B",
           "#00cc96",
           "#ab63fa",
           "#FFA15A",
           "#19d3f3",
           "#FF6692",
           "#B6E880",
           "#FF97FF",
           "#FECB52"
          ],
          "font": {
           "color": "#2a3f5f"
          },
          "geo": {
           "bgcolor": "white",
           "lakecolor": "white",
           "landcolor": "#E5ECF6",
           "showlakes": true,
           "showland": true,
           "subunitcolor": "white"
          },
          "hoverlabel": {
           "align": "left"
          },
          "hovermode": "closest",
          "mapbox": {
           "style": "light"
          },
          "paper_bgcolor": "white",
          "plot_bgcolor": "#E5ECF6",
          "polar": {
           "angularaxis": {
            "gridcolor": "white",
            "linecolor": "white",
            "ticks": ""
           },
           "bgcolor": "#E5ECF6",
           "radialaxis": {
            "gridcolor": "white",
            "linecolor": "white",
            "ticks": ""
           }
          },
          "scene": {
           "xaxis": {
            "backgroundcolor": "#E5ECF6",
            "gridcolor": "white",
            "gridwidth": 2,
            "linecolor": "white",
            "showbackground": true,
            "ticks": "",
            "zerolinecolor": "white"
           },
           "yaxis": {
            "backgroundcolor": "#E5ECF6",
            "gridcolor": "white",
            "gridwidth": 2,
            "linecolor": "white",
            "showbackground": true,
            "ticks": "",
            "zerolinecolor": "white"
           },
           "zaxis": {
            "backgroundcolor": "#E5ECF6",
            "gridcolor": "white",
            "gridwidth": 2,
            "linecolor": "white",
            "showbackground": true,
            "ticks": "",
            "zerolinecolor": "white"
           }
          },
          "shapedefaults": {
           "line": {
            "color": "#2a3f5f"
           }
          },
          "ternary": {
           "aaxis": {
            "gridcolor": "white",
            "linecolor": "white",
            "ticks": ""
           },
           "baxis": {
            "gridcolor": "white",
            "linecolor": "white",
            "ticks": ""
           },
           "bgcolor": "#E5ECF6",
           "caxis": {
            "gridcolor": "white",
            "linecolor": "white",
            "ticks": ""
           }
          },
          "title": {
           "x": 0.05
          },
          "xaxis": {
           "automargin": true,
           "gridcolor": "white",
           "linecolor": "white",
           "ticks": "",
           "title": {
            "standoff": 15
           },
           "zerolinecolor": "white",
           "zerolinewidth": 2
          },
          "yaxis": {
           "automargin": true,
           "gridcolor": "white",
           "linecolor": "white",
           "ticks": "",
           "title": {
            "standoff": 15
           },
           "zerolinecolor": "white",
           "zerolinewidth": 2
          }
         }
        },
        "title": {
         "font": {
          "color": "#4D5663"
         }
        },
        "xaxis": {
         "gridcolor": "#E1E5ED",
         "showgrid": true,
         "tickfont": {
          "color": "#4D5663"
         },
         "title": {
          "font": {
           "color": "#4D5663"
          },
          "text": ""
         },
         "zerolinecolor": "#E1E5ED"
        },
        "yaxis": {
         "gridcolor": "#E1E5ED",
         "showgrid": true,
         "tickfont": {
          "color": "#4D5663"
         },
         "title": {
          "font": {
           "color": "#4D5663"
          },
          "text": ""
         },
         "zerolinecolor": "#E1E5ED"
        }
       }
      },
      "text/html": [
       "<div>                            <div id=\"5bb36bfb-26c9-44e6-94ab-5f0e55ceac70\" class=\"plotly-graph-div\" style=\"height:525px; width:100%;\"></div>            <script type=\"text/javascript\">                require([\"plotly\"], function(Plotly) {                    window.PLOTLYENV=window.PLOTLYENV || {};\n",
       "                    window.PLOTLYENV.BASE_URL='https://plot.ly';                                    if (document.getElementById(\"5bb36bfb-26c9-44e6-94ab-5f0e55ceac70\")) {                    Plotly.newPlot(                        \"5bb36bfb-26c9-44e6-94ab-5f0e55ceac70\",                        [{\"marker\":{\"color\":\"rgba(255, 153, 51, 0.6)\",\"line\":{\"color\":\"rgba(255, 153, 51, 1.0)\",\"width\":1}},\"name\":\"cardio\",\"orientation\":\"h\",\"text\":\"\",\"x\":[-0.1957335661815488,-0.08175619913501389,-0.029125118231117627,-0.02455859976549133,-0.015521254996837168,-0.0004359699758478596,0.06393028058920851,0.1802850808742155,0.18807783259078212,0.23552829127624542,0.340549443913632,0.4265026764166369],\"y\":[\"cholesterol_normal\",\"gluc_normal\",\"active\",\"smoke\",\"alco\",\"gender\",\"gluc_well above normal\",\"bmi\",\"cholesterol_well above normal\",\"age\",\"ap_lo\",\"ap_hi\"],\"type\":\"bar\"}],                        {\"legend\":{\"bgcolor\":\"#F5F6F9\",\"font\":{\"color\":\"#4D5663\"}},\"paper_bgcolor\":\"#F5F6F9\",\"plot_bgcolor\":\"#F5F6F9\",\"template\":{\"data\":{\"barpolar\":[{\"marker\":{\"line\":{\"color\":\"#E5ECF6\",\"width\":0.5},\"pattern\":{\"fillmode\":\"overlay\",\"size\":10,\"solidity\":0.2}},\"type\":\"barpolar\"}],\"bar\":[{\"error_x\":{\"color\":\"#2a3f5f\"},\"error_y\":{\"color\":\"#2a3f5f\"},\"marker\":{\"line\":{\"color\":\"#E5ECF6\",\"width\":0.5},\"pattern\":{\"fillmode\":\"overlay\",\"size\":10,\"solidity\":0.2}},\"type\":\"bar\"}],\"carpet\":[{\"aaxis\":{\"endlinecolor\":\"#2a3f5f\",\"gridcolor\":\"white\",\"linecolor\":\"white\",\"minorgridcolor\":\"white\",\"startlinecolor\":\"#2a3f5f\"},\"baxis\":{\"endlinecolor\":\"#2a3f5f\",\"gridcolor\":\"white\",\"linecolor\":\"white\",\"minorgridcolor\":\"white\",\"startlinecolor\":\"#2a3f5f\"},\"type\":\"carpet\"}],\"choropleth\":[{\"colorbar\":{\"outlinewidth\":0,\"ticks\":\"\"},\"type\":\"choropleth\"}],\"contourcarpet\":[{\"colorbar\":{\"outlinewidth\":0,\"ticks\":\"\"},\"type\":\"contourcarpet\"}],\"contour\":[{\"colorbar\":{\"outlinewidth\":0,\"ticks\":\"\"},\"colorscale\":[[0.0,\"#0d0887\"],[0.1111111111111111,\"#46039f\"],[0.2222222222222222,\"#7201a8\"],[0.3333333333333333,\"#9c179e\"],[0.4444444444444444,\"#bd3786\"],[0.5555555555555556,\"#d8576b\"],[0.6666666666666666,\"#ed7953\"],[0.7777777777777778,\"#fb9f3a\"],[0.8888888888888888,\"#fdca26\"],[1.0,\"#f0f921\"]],\"type\":\"contour\"}],\"heatmapgl\":[{\"colorbar\":{\"outlinewidth\":0,\"ticks\":\"\"},\"colorscale\":[[0.0,\"#0d0887\"],[0.1111111111111111,\"#46039f\"],[0.2222222222222222,\"#7201a8\"],[0.3333333333333333,\"#9c179e\"],[0.4444444444444444,\"#bd3786\"],[0.5555555555555556,\"#d8576b\"],[0.6666666666666666,\"#ed7953\"],[0.7777777777777778,\"#fb9f3a\"],[0.8888888888888888,\"#fdca26\"],[1.0,\"#f0f921\"]],\"type\":\"heatmapgl\"}],\"heatmap\":[{\"colorbar\":{\"outlinewidth\":0,\"ticks\":\"\"},\"colorscale\":[[0.0,\"#0d0887\"],[0.1111111111111111,\"#46039f\"],[0.2222222222222222,\"#7201a8\"],[0.3333333333333333,\"#9c179e\"],[0.4444444444444444,\"#bd3786\"],[0.5555555555555556,\"#d8576b\"],[0.6666666666666666,\"#ed7953\"],[0.7777777777777778,\"#fb9f3a\"],[0.8888888888888888,\"#fdca26\"],[1.0,\"#f0f921\"]],\"type\":\"heatmap\"}],\"histogram2dcontour\":[{\"colorbar\":{\"outlinewidth\":0,\"ticks\":\"\"},\"colorscale\":[[0.0,\"#0d0887\"],[0.1111111111111111,\"#46039f\"],[0.2222222222222222,\"#7201a8\"],[0.3333333333333333,\"#9c179e\"],[0.4444444444444444,\"#bd3786\"],[0.5555555555555556,\"#d8576b\"],[0.6666666666666666,\"#ed7953\"],[0.7777777777777778,\"#fb9f3a\"],[0.8888888888888888,\"#fdca26\"],[1.0,\"#f0f921\"]],\"type\":\"histogram2dcontour\"}],\"histogram2d\":[{\"colorbar\":{\"outlinewidth\":0,\"ticks\":\"\"},\"colorscale\":[[0.0,\"#0d0887\"],[0.1111111111111111,\"#46039f\"],[0.2222222222222222,\"#7201a8\"],[0.3333333333333333,\"#9c179e\"],[0.4444444444444444,\"#bd3786\"],[0.5555555555555556,\"#d8576b\"],[0.6666666666666666,\"#ed7953\"],[0.7777777777777778,\"#fb9f3a\"],[0.8888888888888888,\"#fdca26\"],[1.0,\"#f0f921\"]],\"type\":\"histogram2d\"}],\"histogram\":[{\"marker\":{\"pattern\":{\"fillmode\":\"overlay\",\"size\":10,\"solidity\":0.2}},\"type\":\"histogram\"}],\"mesh3d\":[{\"colorbar\":{\"outlinewidth\":0,\"ticks\":\"\"},\"type\":\"mesh3d\"}],\"parcoords\":[{\"line\":{\"colorbar\":{\"outlinewidth\":0,\"ticks\":\"\"}},\"type\":\"parcoords\"}],\"pie\":[{\"automargin\":true,\"type\":\"pie\"}],\"scatter3d\":[{\"line\":{\"colorbar\":{\"outlinewidth\":0,\"ticks\":\"\"}},\"marker\":{\"colorbar\":{\"outlinewidth\":0,\"ticks\":\"\"}},\"type\":\"scatter3d\"}],\"scattercarpet\":[{\"marker\":{\"colorbar\":{\"outlinewidth\":0,\"ticks\":\"\"}},\"type\":\"scattercarpet\"}],\"scattergeo\":[{\"marker\":{\"colorbar\":{\"outlinewidth\":0,\"ticks\":\"\"}},\"type\":\"scattergeo\"}],\"scattergl\":[{\"marker\":{\"colorbar\":{\"outlinewidth\":0,\"ticks\":\"\"}},\"type\":\"scattergl\"}],\"scattermapbox\":[{\"marker\":{\"colorbar\":{\"outlinewidth\":0,\"ticks\":\"\"}},\"type\":\"scattermapbox\"}],\"scatterpolargl\":[{\"marker\":{\"colorbar\":{\"outlinewidth\":0,\"ticks\":\"\"}},\"type\":\"scatterpolargl\"}],\"scatterpolar\":[{\"marker\":{\"colorbar\":{\"outlinewidth\":0,\"ticks\":\"\"}},\"type\":\"scatterpolar\"}],\"scatter\":[{\"fillpattern\":{\"fillmode\":\"overlay\",\"size\":10,\"solidity\":0.2},\"type\":\"scatter\"}],\"scatterternary\":[{\"marker\":{\"colorbar\":{\"outlinewidth\":0,\"ticks\":\"\"}},\"type\":\"scatterternary\"}],\"surface\":[{\"colorbar\":{\"outlinewidth\":0,\"ticks\":\"\"},\"colorscale\":[[0.0,\"#0d0887\"],[0.1111111111111111,\"#46039f\"],[0.2222222222222222,\"#7201a8\"],[0.3333333333333333,\"#9c179e\"],[0.4444444444444444,\"#bd3786\"],[0.5555555555555556,\"#d8576b\"],[0.6666666666666666,\"#ed7953\"],[0.7777777777777778,\"#fb9f3a\"],[0.8888888888888888,\"#fdca26\"],[1.0,\"#f0f921\"]],\"type\":\"surface\"}],\"table\":[{\"cells\":{\"fill\":{\"color\":\"#EBF0F8\"},\"line\":{\"color\":\"white\"}},\"header\":{\"fill\":{\"color\":\"#C8D4E3\"},\"line\":{\"color\":\"white\"}},\"type\":\"table\"}]},\"layout\":{\"annotationdefaults\":{\"arrowcolor\":\"#2a3f5f\",\"arrowhead\":0,\"arrowwidth\":1},\"autotypenumbers\":\"strict\",\"coloraxis\":{\"colorbar\":{\"outlinewidth\":0,\"ticks\":\"\"}},\"colorscale\":{\"diverging\":[[0,\"#8e0152\"],[0.1,\"#c51b7d\"],[0.2,\"#de77ae\"],[0.3,\"#f1b6da\"],[0.4,\"#fde0ef\"],[0.5,\"#f7f7f7\"],[0.6,\"#e6f5d0\"],[0.7,\"#b8e186\"],[0.8,\"#7fbc41\"],[0.9,\"#4d9221\"],[1,\"#276419\"]],\"sequential\":[[0.0,\"#0d0887\"],[0.1111111111111111,\"#46039f\"],[0.2222222222222222,\"#7201a8\"],[0.3333333333333333,\"#9c179e\"],[0.4444444444444444,\"#bd3786\"],[0.5555555555555556,\"#d8576b\"],[0.6666666666666666,\"#ed7953\"],[0.7777777777777778,\"#fb9f3a\"],[0.8888888888888888,\"#fdca26\"],[1.0,\"#f0f921\"]],\"sequentialminus\":[[0.0,\"#0d0887\"],[0.1111111111111111,\"#46039f\"],[0.2222222222222222,\"#7201a8\"],[0.3333333333333333,\"#9c179e\"],[0.4444444444444444,\"#bd3786\"],[0.5555555555555556,\"#d8576b\"],[0.6666666666666666,\"#ed7953\"],[0.7777777777777778,\"#fb9f3a\"],[0.8888888888888888,\"#fdca26\"],[1.0,\"#f0f921\"]]},\"colorway\":[\"#636efa\",\"#EF553B\",\"#00cc96\",\"#ab63fa\",\"#FFA15A\",\"#19d3f3\",\"#FF6692\",\"#B6E880\",\"#FF97FF\",\"#FECB52\"],\"font\":{\"color\":\"#2a3f5f\"},\"geo\":{\"bgcolor\":\"white\",\"lakecolor\":\"white\",\"landcolor\":\"#E5ECF6\",\"showlakes\":true,\"showland\":true,\"subunitcolor\":\"white\"},\"hoverlabel\":{\"align\":\"left\"},\"hovermode\":\"closest\",\"mapbox\":{\"style\":\"light\"},\"paper_bgcolor\":\"white\",\"plot_bgcolor\":\"#E5ECF6\",\"polar\":{\"angularaxis\":{\"gridcolor\":\"white\",\"linecolor\":\"white\",\"ticks\":\"\"},\"bgcolor\":\"#E5ECF6\",\"radialaxis\":{\"gridcolor\":\"white\",\"linecolor\":\"white\",\"ticks\":\"\"}},\"scene\":{\"xaxis\":{\"backgroundcolor\":\"#E5ECF6\",\"gridcolor\":\"white\",\"gridwidth\":2,\"linecolor\":\"white\",\"showbackground\":true,\"ticks\":\"\",\"zerolinecolor\":\"white\"},\"yaxis\":{\"backgroundcolor\":\"#E5ECF6\",\"gridcolor\":\"white\",\"gridwidth\":2,\"linecolor\":\"white\",\"showbackground\":true,\"ticks\":\"\",\"zerolinecolor\":\"white\"},\"zaxis\":{\"backgroundcolor\":\"#E5ECF6\",\"gridcolor\":\"white\",\"gridwidth\":2,\"linecolor\":\"white\",\"showbackground\":true,\"ticks\":\"\",\"zerolinecolor\":\"white\"}},\"shapedefaults\":{\"line\":{\"color\":\"#2a3f5f\"}},\"ternary\":{\"aaxis\":{\"gridcolor\":\"white\",\"linecolor\":\"white\",\"ticks\":\"\"},\"baxis\":{\"gridcolor\":\"white\",\"linecolor\":\"white\",\"ticks\":\"\"},\"bgcolor\":\"#E5ECF6\",\"caxis\":{\"gridcolor\":\"white\",\"linecolor\":\"white\",\"ticks\":\"\"}},\"title\":{\"x\":0.05},\"xaxis\":{\"automargin\":true,\"gridcolor\":\"white\",\"linecolor\":\"white\",\"ticks\":\"\",\"title\":{\"standoff\":15},\"zerolinecolor\":\"white\",\"zerolinewidth\":2},\"yaxis\":{\"automargin\":true,\"gridcolor\":\"white\",\"linecolor\":\"white\",\"ticks\":\"\",\"title\":{\"standoff\":15},\"zerolinecolor\":\"white\",\"zerolinewidth\":2}}},\"title\":{\"font\":{\"color\":\"#4D5663\"}},\"xaxis\":{\"gridcolor\":\"#E1E5ED\",\"showgrid\":true,\"tickfont\":{\"color\":\"#4D5663\"},\"title\":{\"font\":{\"color\":\"#4D5663\"},\"text\":\"\"},\"zerolinecolor\":\"#E1E5ED\"},\"yaxis\":{\"gridcolor\":\"#E1E5ED\",\"showgrid\":true,\"tickfont\":{\"color\":\"#4D5663\"},\"title\":{\"font\":{\"color\":\"#4D5663\"},\"text\":\"\"},\"zerolinecolor\":\"#E1E5ED\"}},                        {\"showLink\": true, \"linkText\": \"Export to plot.ly\", \"plotlyServerURL\": \"https://plot.ly\", \"responsive\": true}                    ).then(function(){\n",
       "                            \n",
       "var gd = document.getElementById('5bb36bfb-26c9-44e6-94ab-5f0e55ceac70');\n",
       "var x = new MutationObserver(function (mutations, observer) {{\n",
       "        var display = window.getComputedStyle(gd).display;\n",
       "        if (!display || display === 'none') {{\n",
       "            console.log([gd, 'removed!']);\n",
       "            Plotly.purge(gd);\n",
       "            observer.disconnect();\n",
       "        }}\n",
       "}});\n",
       "\n",
       "// Listen for the removal of the full notebook cells\n",
       "var notebookContainer = gd.closest('#notebook-container');\n",
       "if (notebookContainer) {{\n",
       "    x.observe(notebookContainer, {childList: true});\n",
       "}}\n",
       "\n",
       "// Listen for the clearing of the current output cell\n",
       "var outputEl = gd.closest('.output');\n",
       "if (outputEl) {{\n",
       "    x.observe(outputEl, {childList: true});\n",
       "}}\n",
       "\n",
       "                        })                };                });            </script>        </div>"
      ]
     },
     "metadata": {},
     "output_type": "display_data"
    }
   ],
   "source": [
    "#plotting using plotly\n",
    "import cufflinks as cf\n",
    "from plotly.offline import download_plotlyjs,init_notebook_mode,plot,iplot\n",
    "init_notebook_mode(connected=True)\n",
    "cf.go_offline()\n",
    "\n",
    "print('Correlation of features with target variable')\n",
    "final_data.corr()['cardio'].sort_values()[:-1].iplot(kind='barh');"
   ]
  },
  {
   "cell_type": "markdown",
   "id": "f79fef1a",
   "metadata": {
    "papermill": {
     "duration": 0.09568,
     "end_time": "2022-06-05T09:10:36.008732",
     "exception": false,
     "start_time": "2022-06-05T09:10:35.913052",
     "status": "completed"
    },
    "tags": []
   },
   "source": [
    "### Splitting and Standardizing data"
   ]
  },
  {
   "cell_type": "code",
   "execution_count": 33,
   "id": "f8684633",
   "metadata": {
    "execution": {
     "iopub.execute_input": "2022-06-05T09:10:36.209869Z",
     "iopub.status.busy": "2022-06-05T09:10:36.209136Z",
     "iopub.status.idle": "2022-06-05T09:10:36.249257Z",
     "shell.execute_reply": "2022-06-05T09:10:36.248246Z"
    },
    "papermill": {
     "duration": 0.142122,
     "end_time": "2022-06-05T09:10:36.252135",
     "exception": false,
     "start_time": "2022-06-05T09:10:36.110013",
     "status": "completed"
    },
    "tags": []
   },
   "outputs": [],
   "source": [
    "from sklearn.model_selection import train_test_split\n",
    "from sklearn.preprocessing import StandardScaler\n",
    "\n",
    "X_train, X_test, y_train, y_test = train_test_split(final_data.drop('cardio',axis=1),final_data.cardio,test_size=0.30)\n",
    "\n",
    "to_be_scaled_feat = ['age', 'ap_hi', 'ap_lo','bmi']\n",
    "other_feat = ['gender', 'cholesterol_normal', 'cholesterol_well above normal',\n",
    "       'gluc_normal', 'gluc_well above normal', 'smoke', 'alco', 'active']\n",
    "scaler=StandardScaler()\n",
    "scaler.fit(X_train[to_be_scaled_feat])\n",
    "X_train[to_be_scaled_feat] = scaler.transform(X_train[to_be_scaled_feat])\n",
    "X_test[to_be_scaled_feat] = scaler.transform(X_test[to_be_scaled_feat])"
   ]
  },
  {
   "cell_type": "code",
   "execution_count": 34,
   "id": "e1880de4",
   "metadata": {
    "execution": {
     "iopub.execute_input": "2022-06-05T09:10:36.447606Z",
     "iopub.status.busy": "2022-06-05T09:10:36.446563Z",
     "iopub.status.idle": "2022-06-05T09:10:36.455662Z",
     "shell.execute_reply": "2022-06-05T09:10:36.454546Z"
    },
    "papermill": {
     "duration": 0.109131,
     "end_time": "2022-06-05T09:10:36.458079",
     "exception": false,
     "start_time": "2022-06-05T09:10:36.348948",
     "status": "completed"
    },
    "tags": []
   },
   "outputs": [
    {
     "data": {
      "text/plain": [
       "['scaler.h5']"
      ]
     },
     "execution_count": 34,
     "metadata": {},
     "output_type": "execute_result"
    }
   ],
   "source": [
    "import joblib\n",
    "\n",
    "joblib.dump(scaler, 'scaler.h5')"
   ]
  },
  {
   "cell_type": "code",
   "execution_count": 35,
   "id": "355b9db9",
   "metadata": {
    "execution": {
     "iopub.execute_input": "2022-06-05T09:10:36.654466Z",
     "iopub.status.busy": "2022-06-05T09:10:36.654170Z",
     "iopub.status.idle": "2022-06-05T09:10:36.663944Z",
     "shell.execute_reply": "2022-06-05T09:10:36.662969Z"
    },
    "papermill": {
     "duration": 0.111674,
     "end_time": "2022-06-05T09:10:36.666143",
     "exception": false,
     "start_time": "2022-06-05T09:10:36.554469",
     "status": "completed"
    },
    "tags": []
   },
   "outputs": [
    {
     "data": {
      "text/plain": [
       "StandardScaler()"
      ]
     },
     "execution_count": 35,
     "metadata": {},
     "output_type": "execute_result"
    }
   ],
   "source": [
    "joblib.load('scaler.h5')"
   ]
  },
  {
   "cell_type": "markdown",
   "id": "097f5665",
   "metadata": {
    "papermill": {
     "duration": 0.09643,
     "end_time": "2022-06-05T09:10:36.859868",
     "exception": false,
     "start_time": "2022-06-05T09:10:36.763438",
     "status": "completed"
    },
    "tags": []
   },
   "source": [
    "### Out of the box classifiers"
   ]
  },
  {
   "cell_type": "code",
   "execution_count": 36,
   "id": "7066d4c4",
   "metadata": {
    "execution": {
     "iopub.execute_input": "2022-06-05T09:10:37.068008Z",
     "iopub.status.busy": "2022-06-05T09:10:37.067249Z",
     "iopub.status.idle": "2022-06-05T09:10:37.199819Z",
     "shell.execute_reply": "2022-06-05T09:10:37.197847Z"
    },
    "papermill": {
     "duration": 0.247235,
     "end_time": "2022-06-05T09:10:37.203591",
     "exception": false,
     "start_time": "2022-06-05T09:10:36.956356",
     "status": "completed"
    },
    "tags": []
   },
   "outputs": [],
   "source": [
    "# importing classifiers\n",
    "from sklearn.linear_model import LogisticRegression\n",
    "from sklearn.tree import DecisionTreeClassifier\n",
    "from sklearn.ensemble import RandomForestClassifier\n",
    "from sklearn.svm import SVC\n",
    "from sklearn.neighbors import KNeighborsClassifier\n",
    "from xgboost import XGBClassifier\n",
    "from sklearn.metrics import f1_score, accuracy_score, precision_score, recall_score, classification_report"
   ]
  },
  {
   "cell_type": "code",
   "execution_count": 37,
   "id": "f1e2cc8a",
   "metadata": {
    "execution": {
     "iopub.execute_input": "2022-06-05T09:10:37.545391Z",
     "iopub.status.busy": "2022-06-05T09:10:37.545020Z",
     "iopub.status.idle": "2022-06-05T09:13:26.028754Z",
     "shell.execute_reply": "2022-06-05T09:13:26.027778Z"
    },
    "papermill": {
     "duration": 168.751241,
     "end_time": "2022-06-05T09:13:26.125298",
     "exception": false,
     "start_time": "2022-06-05T09:10:37.374057",
     "status": "completed"
    },
    "scrolled": true,
    "tags": []
   },
   "outputs": [
    {
     "data": {
      "text/html": [
       "<div>\n",
       "<style scoped>\n",
       "    .dataframe tbody tr th:only-of-type {\n",
       "        vertical-align: middle;\n",
       "    }\n",
       "\n",
       "    .dataframe tbody tr th {\n",
       "        vertical-align: top;\n",
       "    }\n",
       "\n",
       "    .dataframe thead th {\n",
       "        text-align: right;\n",
       "    }\n",
       "</style>\n",
       "<table border=\"1\" class=\"dataframe\">\n",
       "  <thead>\n",
       "    <tr style=\"text-align: right;\">\n",
       "      <th></th>\n",
       "      <th>Accuracy in %</th>\n",
       "      <th>F1-score</th>\n",
       "      <th>Recall</th>\n",
       "      <th>Precision</th>\n",
       "    </tr>\n",
       "  </thead>\n",
       "  <tbody>\n",
       "    <tr>\n",
       "      <th>Logistic Regression</th>\n",
       "      <td>72.83</td>\n",
       "      <td>0.72</td>\n",
       "      <td>0.69</td>\n",
       "      <td>0.76</td>\n",
       "    </tr>\n",
       "    <tr>\n",
       "      <th>Decision Tree</th>\n",
       "      <td>62.52</td>\n",
       "      <td>0.62</td>\n",
       "      <td>0.60</td>\n",
       "      <td>0.65</td>\n",
       "    </tr>\n",
       "    <tr>\n",
       "      <th>Random Forest</th>\n",
       "      <td>67.41</td>\n",
       "      <td>0.68</td>\n",
       "      <td>0.68</td>\n",
       "      <td>0.68</td>\n",
       "    </tr>\n",
       "    <tr>\n",
       "      <th>Support Vector Machines</th>\n",
       "      <td>73.44</td>\n",
       "      <td>0.73</td>\n",
       "      <td>0.69</td>\n",
       "      <td>0.77</td>\n",
       "    </tr>\n",
       "    <tr>\n",
       "      <th>K-nearest Neighbors</th>\n",
       "      <td>68.84</td>\n",
       "      <td>0.69</td>\n",
       "      <td>0.69</td>\n",
       "      <td>0.70</td>\n",
       "    </tr>\n",
       "    <tr>\n",
       "      <th>XGBoost</th>\n",
       "      <td>73.16</td>\n",
       "      <td>0.73</td>\n",
       "      <td>0.70</td>\n",
       "      <td>0.76</td>\n",
       "    </tr>\n",
       "  </tbody>\n",
       "</table>\n",
       "</div>"
      ],
      "text/plain": [
       "                         Accuracy in %  F1-score  Recall  Precision\n",
       "Logistic Regression              72.83      0.72    0.69       0.76\n",
       "Decision Tree                    62.52      0.62    0.60       0.65\n",
       "Random Forest                    67.41      0.68    0.68       0.68\n",
       "Support Vector Machines          73.44      0.73    0.69       0.77\n",
       "K-nearest Neighbors              68.84      0.69    0.69       0.70\n",
       "XGBoost                          73.16      0.73    0.70       0.76"
      ]
     },
     "execution_count": 37,
     "metadata": {},
     "output_type": "execute_result"
    }
   ],
   "source": [
    "classifiers = {\n",
    "    'Logistic Regression' : LogisticRegression(),\n",
    "    'Decision Tree' : DecisionTreeClassifier(),\n",
    "    'Random Forest' : RandomForestClassifier(),\n",
    "    'Support Vector Machines' : SVC(),\n",
    "    'K-nearest Neighbors' : KNeighborsClassifier(),\n",
    "    'XGBoost' : XGBClassifier()\n",
    "}\n",
    "results=pd.DataFrame(columns=['Accuracy in %','F1-score','Recall', 'Precision'])\n",
    "for method,func in classifiers.items():\n",
    "    func.fit(X_train,y_train)\n",
    "    pred = func.predict(X_test)\n",
    "    results.loc[method]= [100*np.round(accuracy_score(y_test,pred),decimals=4),\n",
    "                         round(f1_score(y_test,pred),2), round(recall_score(y_test,pred),2),\n",
    "                         round(precision_score(y_test,pred),2),]\n",
    "results"
   ]
  },
  {
   "cell_type": "markdown",
   "id": "e332b7ef",
   "metadata": {
    "papermill": {
     "duration": 0.095372,
     "end_time": "2022-06-05T09:13:26.315953",
     "exception": false,
     "start_time": "2022-06-05T09:13:26.220581",
     "status": "completed"
    },
    "tags": []
   },
   "source": [
    "# Deep Neural Networks"
   ]
  },
  {
   "cell_type": "code",
   "execution_count": 38,
   "id": "dad973b5",
   "metadata": {
    "_kg_hide-input": true,
    "execution": {
     "iopub.execute_input": "2022-06-05T09:13:26.512327Z",
     "iopub.status.busy": "2022-06-05T09:13:26.512020Z",
     "iopub.status.idle": "2022-06-05T09:13:32.662649Z",
     "shell.execute_reply": "2022-06-05T09:13:32.661612Z"
    },
    "papermill": {
     "duration": 6.251961,
     "end_time": "2022-06-05T09:13:32.665418",
     "exception": false,
     "start_time": "2022-06-05T09:13:26.413457",
     "status": "completed"
    },
    "tags": []
   },
   "outputs": [],
   "source": [
    "import tensorflow as tf\n",
    "from tensorflow.keras.models import Sequential\n",
    "from tensorflow.keras.layers import Dense, Activation,Dropout\n",
    "from tensorflow.keras.optimizers import Adam\n",
    "from tensorflow.keras.callbacks import EarlyStopping\n",
    "from sklearn.metrics import classification_report\n"
   ]
  },
  {
   "cell_type": "code",
   "execution_count": 39,
   "id": "c833630e",
   "metadata": {
    "_kg_hide-output": true,
    "execution": {
     "iopub.execute_input": "2022-06-05T09:13:32.862300Z",
     "iopub.status.busy": "2022-06-05T09:13:32.860495Z",
     "iopub.status.idle": "2022-06-05T09:14:06.741199Z",
     "shell.execute_reply": "2022-06-05T09:14:06.737169Z"
    },
    "papermill": {
     "duration": 33.980996,
     "end_time": "2022-06-05T09:14:06.743709",
     "exception": false,
     "start_time": "2022-06-05T09:13:32.762713",
     "status": "completed"
    },
    "tags": []
   },
   "outputs": [
    {
     "name": "stderr",
     "output_type": "stream",
     "text": [
      "2022-06-05 09:13:32.909001: I tensorflow/stream_executor/cuda/cuda_gpu_executor.cc:937] successful NUMA node read from SysFS had negative value (-1), but there must be at least one NUMA node, so returning NUMA node zero\n",
      "2022-06-05 09:13:32.915068: I tensorflow/stream_executor/cuda/cuda_gpu_executor.cc:937] successful NUMA node read from SysFS had negative value (-1), but there must be at least one NUMA node, so returning NUMA node zero\n",
      "2022-06-05 09:13:32.916142: I tensorflow/stream_executor/cuda/cuda_gpu_executor.cc:937] successful NUMA node read from SysFS had negative value (-1), but there must be at least one NUMA node, so returning NUMA node zero\n",
      "2022-06-05 09:13:32.917561: I tensorflow/core/platform/cpu_feature_guard.cc:142] This TensorFlow binary is optimized with oneAPI Deep Neural Network Library (oneDNN) to use the following CPU instructions in performance-critical operations:  AVX2 FMA\n",
      "To enable them in other operations, rebuild TensorFlow with the appropriate compiler flags.\n",
      "2022-06-05 09:13:32.917908: I tensorflow/stream_executor/cuda/cuda_gpu_executor.cc:937] successful NUMA node read from SysFS had negative value (-1), but there must be at least one NUMA node, so returning NUMA node zero\n",
      "2022-06-05 09:13:32.918961: I tensorflow/stream_executor/cuda/cuda_gpu_executor.cc:937] successful NUMA node read from SysFS had negative value (-1), but there must be at least one NUMA node, so returning NUMA node zero\n",
      "2022-06-05 09:13:32.920045: I tensorflow/stream_executor/cuda/cuda_gpu_executor.cc:937] successful NUMA node read from SysFS had negative value (-1), but there must be at least one NUMA node, so returning NUMA node zero\n",
      "2022-06-05 09:13:37.766438: I tensorflow/stream_executor/cuda/cuda_gpu_executor.cc:937] successful NUMA node read from SysFS had negative value (-1), but there must be at least one NUMA node, so returning NUMA node zero\n",
      "2022-06-05 09:13:37.767621: I tensorflow/stream_executor/cuda/cuda_gpu_executor.cc:937] successful NUMA node read from SysFS had negative value (-1), but there must be at least one NUMA node, so returning NUMA node zero\n",
      "2022-06-05 09:13:37.768683: I tensorflow/stream_executor/cuda/cuda_gpu_executor.cc:937] successful NUMA node read from SysFS had negative value (-1), but there must be at least one NUMA node, so returning NUMA node zero\n",
      "2022-06-05 09:13:37.770640: I tensorflow/core/common_runtime/gpu/gpu_device.cc:1510] Created device /job:localhost/replica:0/task:0/device:GPU:0 with 15219 MB memory:  -> device: 0, name: Tesla P100-PCIE-16GB, pci bus id: 0000:00:04.0, compute capability: 6.0\n",
      "2022-06-05 09:13:38.218158: I tensorflow/compiler/mlir/mlir_graph_optimization_pass.cc:185] None of the MLIR Optimization Passes are enabled (registered 2)\n"
     ]
    },
    {
     "name": "stdout",
     "output_type": "stream",
     "text": [
      "Epoch 1/100\n",
      "364/364 [==============================] - 4s 5ms/step - loss: 0.5814 - accuracy: 0.7092 - val_loss: 0.5564 - val_accuracy: 0.7247\n",
      "Epoch 2/100\n",
      "364/364 [==============================] - 2s 4ms/step - loss: 0.5611 - accuracy: 0.7239 - val_loss: 0.5520 - val_accuracy: 0.7258\n",
      "Epoch 3/100\n",
      "364/364 [==============================] - 2s 5ms/step - loss: 0.5575 - accuracy: 0.7251 - val_loss: 0.5507 - val_accuracy: 0.7266\n",
      "Epoch 4/100\n",
      "364/364 [==============================] - 2s 5ms/step - loss: 0.5555 - accuracy: 0.7269 - val_loss: 0.5481 - val_accuracy: 0.7274\n",
      "Epoch 5/100\n",
      "364/364 [==============================] - 2s 4ms/step - loss: 0.5558 - accuracy: 0.7277 - val_loss: 0.5470 - val_accuracy: 0.7281\n",
      "Epoch 6/100\n",
      "364/364 [==============================] - 2s 5ms/step - loss: 0.5540 - accuracy: 0.7280 - val_loss: 0.5468 - val_accuracy: 0.7240\n",
      "Epoch 7/100\n",
      "364/364 [==============================] - 2s 4ms/step - loss: 0.5534 - accuracy: 0.7276 - val_loss: 0.5481 - val_accuracy: 0.7256\n",
      "Epoch 8/100\n",
      "364/364 [==============================] - 2s 5ms/step - loss: 0.5529 - accuracy: 0.7275 - val_loss: 0.5476 - val_accuracy: 0.7270\n",
      "Epoch 9/100\n",
      "364/364 [==============================] - 2s 6ms/step - loss: 0.5520 - accuracy: 0.7267 - val_loss: 0.5457 - val_accuracy: 0.7282\n",
      "Epoch 10/100\n",
      "364/364 [==============================] - 2s 5ms/step - loss: 0.5524 - accuracy: 0.7271 - val_loss: 0.5444 - val_accuracy: 0.7252\n",
      "Epoch 11/100\n",
      "364/364 [==============================] - 2s 5ms/step - loss: 0.5523 - accuracy: 0.7265 - val_loss: 0.5472 - val_accuracy: 0.7267\n",
      "Epoch 12/100\n",
      "364/364 [==============================] - 2s 5ms/step - loss: 0.5500 - accuracy: 0.7279 - val_loss: 0.5456 - val_accuracy: 0.7263\n",
      "Epoch 13/100\n",
      "364/364 [==============================] - 2s 4ms/step - loss: 0.5508 - accuracy: 0.7281 - val_loss: 0.5462 - val_accuracy: 0.7304\n",
      "Epoch 14/100\n",
      "364/364 [==============================] - 2s 5ms/step - loss: 0.5507 - accuracy: 0.7275 - val_loss: 0.5460 - val_accuracy: 0.7281\n",
      "Epoch 15/100\n",
      "364/364 [==============================] - 2s 5ms/step - loss: 0.5499 - accuracy: 0.7294 - val_loss: 0.5463 - val_accuracy: 0.7273\n",
      "Epoch 00015: early stopping\n"
     ]
    }
   ],
   "source": [
    "#splitting further into validation set\n",
    "X_train, X_val, y_train, y_val = train_test_split(X_train,y_train,test_size=0.20)\n",
    "\n",
    "model = Sequential()\n",
    "model.add(Dense(12,activation='relu'))\n",
    "model.add(Dense(50,activation='relu',kernel_initializer=tf.random_uniform_initializer(minval=-0.1, maxval=0.1),\n",
    "    bias_initializer=tf.random_uniform_initializer(minval=-0.1, maxval=0.1)))\n",
    "model.add(Dropout(0.2))\n",
    "model.add(Dense(50,activation='relu',kernel_initializer=tf.random_uniform_initializer(minval=-0.1, maxval=0.1),\n",
    "    bias_initializer=tf.random_uniform_initializer(minval=-0.1, maxval=0.1)))\n",
    "model.add(Dropout(0.2))\n",
    "model.add(Dense(50,activation='relu',kernel_initializer=tf.random_uniform_initializer(minval=-0.1, maxval=0.1),\n",
    "    bias_initializer=tf.random_uniform_initializer(minval=-0.1, maxval=0.1)))\n",
    "model.add(Dropout(0.2))\n",
    "model.add(Dense(1,activation='sigmoid'))\n",
    "\n",
    "model.compile(loss='binary_crossentropy', optimizer='adam', metrics=['accuracy'])\n",
    "\n",
    "early_stop = EarlyStopping(monitor='val_loss', mode='min', verbose=1, patience=5)\n",
    "\n",
    "history = model.fit(x=X_train.values,y=y_train.values,\n",
    "          validation_data=(X_val,y_val.values),\n",
    "          batch_size=100,epochs=100,callbacks=[early_stop])"
   ]
  },
  {
   "cell_type": "code",
   "execution_count": 40,
   "id": "87166c25",
   "metadata": {
    "execution": {
     "iopub.execute_input": "2022-06-05T09:14:07.324852Z",
     "iopub.status.busy": "2022-06-05T09:14:07.324538Z",
     "iopub.status.idle": "2022-06-05T09:14:20.331982Z",
     "shell.execute_reply": "2022-06-05T09:14:20.331062Z"
    },
    "papermill": {
     "duration": 13.292163,
     "end_time": "2022-06-05T09:14:20.334363",
     "exception": false,
     "start_time": "2022-06-05T09:14:07.042200",
     "status": "completed"
    },
    "tags": []
   },
   "outputs": [
    {
     "data": {
      "image/png": "[encoded data removed]",
      "text/plain": [
       "<Figure size 792x576 with 1 Axes>"
      ]
     },
     "metadata": {},
     "output_type": "display_data"
    }
   ],
   "source": [
    "losses = pd.DataFrame(model.history.history)\n",
    "losses[['loss','val_loss']].plot();"
   ]
  },
  {
   "cell_type": "code",
   "execution_count": 41,
   "id": "d0ed2bdd",
   "metadata": {
    "execution": {
     "iopub.execute_input": "2022-06-05T09:14:20.894351Z",
     "iopub.status.busy": "2022-06-05T09:14:20.894066Z",
     "iopub.status.idle": "2022-06-05T09:14:21.200699Z",
     "shell.execute_reply": "2022-06-05T09:14:21.199785Z"
    },
    "papermill": {
     "duration": 0.588235,
     "end_time": "2022-06-05T09:14:21.202891",
     "exception": false,
     "start_time": "2022-06-05T09:14:20.614656",
     "status": "completed"
    },
    "tags": []
   },
   "outputs": [
    {
     "data": {
      "image/png": "[encoded data removed]",
      "text/plain": [
       "<Figure size 792x576 with 1 Axes>"
      ]
     },
     "metadata": {},
     "output_type": "display_data"
    }
   ],
   "source": [
    "plt.plot(history.history['accuracy'])\n",
    "plt.plot(history.history['val_accuracy'])\n",
    "plt.title('Model accuracy')\n",
    "plt.ylabel('Accuracy')\n",
    "plt.xlabel('Epoch')\n",
    "plt.legend(['Train', 'Test'], loc='upper left')\n",
    "plt.show()"
   ]
  },
  {
   "cell_type": "code",
   "execution_count": 42,
   "id": "17fff259",
   "metadata": {
    "execution": {
     "iopub.execute_input": "2022-06-05T09:14:21.765771Z",
     "iopub.status.busy": "2022-06-05T09:14:21.765416Z",
     "iopub.status.idle": "2022-06-05T09:14:23.214900Z",
     "shell.execute_reply": "2022-06-05T09:14:23.212270Z"
    },
    "papermill": {
     "duration": 1.736831,
     "end_time": "2022-06-05T09:14:23.218174",
     "exception": false,
     "start_time": "2022-06-05T09:14:21.481343",
     "status": "completed"
    },
    "scrolled": true,
    "tags": []
   },
   "outputs": [
    {
     "name": "stdout",
     "output_type": "stream",
     "text": [
      "              precision    recall  f1-score   support\n",
      "\n",
      "           0       0.72      0.74      0.73      9481\n",
      "           1       0.75      0.72      0.74      9968\n",
      "\n",
      "    accuracy                           0.73     19449\n",
      "   macro avg       0.73      0.73      0.73     19449\n",
      "weighted avg       0.73      0.73      0.73     19449\n",
      "\n"
     ]
    }
   ],
   "source": [
    "dnn_pred = model.predict(X_test)\n",
    "classes_x = np.rint(dnn_pred).astype(\"int32\")\n",
    "print(classification_report(y_test, classes_x))"
   ]
  },
  {
   "cell_type": "code",
   "execution_count": 43,
   "id": "4b1a8a94",
   "metadata": {
    "execution": {
     "iopub.execute_input": "2022-06-05T09:14:23.781098Z",
     "iopub.status.busy": "2022-06-05T09:14:23.780745Z",
     "iopub.status.idle": "2022-06-05T09:14:23.828628Z",
     "shell.execute_reply": "2022-06-05T09:14:23.827668Z"
    },
    "papermill": {
     "duration": 0.33176,
     "end_time": "2022-06-05T09:14:23.831116",
     "exception": false,
     "start_time": "2022-06-05T09:14:23.499356",
     "status": "completed"
    },
    "tags": []
   },
   "outputs": [],
   "source": [
    "from keras.models import load_model\n",
    "\n",
    "model.save('cdv_dnn_model.h5')"
   ]
  },
  {
   "cell_type": "code",
   "execution_count": 44,
   "id": "d9364587",
   "metadata": {
    "execution": {
     "iopub.execute_input": "2022-06-05T09:14:24.394454Z",
     "iopub.status.busy": "2022-06-05T09:14:24.394129Z",
     "iopub.status.idle": "2022-06-05T09:14:24.520806Z",
     "shell.execute_reply": "2022-06-05T09:14:24.519827Z"
    },
    "papermill": {
     "duration": 0.412489,
     "end_time": "2022-06-05T09:14:24.523604",
     "exception": false,
     "start_time": "2022-06-05T09:14:24.111115",
     "status": "completed"
    },
    "tags": []
   },
   "outputs": [],
   "source": [
    "model = load_model('cdv_dnn_model.h5')"
   ]
  },
  {
   "cell_type": "code",
   "execution_count": 45,
   "id": "66e018ba",
   "metadata": {
    "execution": {
     "iopub.execute_input": "2022-06-05T09:14:25.089262Z",
     "iopub.status.busy": "2022-06-05T09:14:25.088940Z",
     "iopub.status.idle": "2022-06-05T09:14:25.624649Z",
     "shell.execute_reply": "2022-06-05T09:14:25.623623Z"
    },
    "papermill": {
     "duration": 0.820424,
     "end_time": "2022-06-05T09:14:25.627376",
     "exception": false,
     "start_time": "2022-06-05T09:14:24.806952",
     "status": "completed"
    },
    "tags": []
   },
   "outputs": [
    {
     "data": {
      "image/png": "[encoded data removed]",
      "text/plain": [
       "<Figure size 792x576 with 2 Axes>"
      ]
     },
     "metadata": {},
     "output_type": "display_data"
    }
   ],
   "source": [
    "from sklearn.metrics import confusion_matrix, plot_roc_curve, accuracy_score, ConfusionMatrixDisplay\n",
    "cm = confusion_matrix(classes_x, y_test)\n",
    "disp = ConfusionMatrixDisplay(confusion_matrix=cm)\n",
    "disp = disp.plot()\n",
    "plt.show()"
   ]
  },
  {
   "cell_type": "markdown",
   "id": "a7502334",
   "metadata": {
    "papermill": {
     "duration": 0.287391,
     "end_time": "2022-06-05T09:14:26.203487",
     "exception": false,
     "start_time": "2022-06-05T09:14:25.916096",
     "status": "completed"
    },
    "tags": []
   },
   "source": [
    "# Results and comparison"
   ]
  },
  {
   "cell_type": "code",
   "execution_count": 46,
   "id": "2120bce4",
   "metadata": {
    "_kg_hide-input": true,
    "execution": {
     "iopub.execute_input": "2022-06-05T09:14:26.776003Z",
     "iopub.status.busy": "2022-06-05T09:14:26.775673Z",
     "iopub.status.idle": "2022-06-05T09:14:26.883704Z",
     "shell.execute_reply": "2022-06-05T09:14:26.882525Z"
    },
    "papermill": {
     "duration": 0.398426,
     "end_time": "2022-06-05T09:14:26.886561",
     "exception": false,
     "start_time": "2022-06-05T09:14:26.488135",
     "status": "completed"
    },
    "tags": []
   },
   "outputs": [
    {
     "data": {
      "text/html": [
       "<style type=\"text/css\">\n",
       "#T_e5ed2_row0_col0, #T_e5ed2_row0_col3, #T_e5ed2_row1_col1, #T_e5ed2_row1_col2, #T_e5ed2_row2_col2 {\n",
       "  background-color: lightgreen;\n",
       "}\n",
       "</style>\n",
       "<table id=\"T_e5ed2_\">\n",
       "  <thead>\n",
       "    <tr>\n",
       "      <th class=\"blank level0\" >&nbsp;</th>\n",
       "      <th class=\"col_heading level0 col0\" >Accuracy in %</th>\n",
       "      <th class=\"col_heading level0 col1\" >F1-score</th>\n",
       "      <th class=\"col_heading level0 col2\" >Recall</th>\n",
       "      <th class=\"col_heading level0 col3\" >Precision</th>\n",
       "    </tr>\n",
       "  </thead>\n",
       "  <tbody>\n",
       "    <tr>\n",
       "      <th id=\"T_e5ed2_level0_row0\" class=\"row_heading level0 row0\" >Support Vector Machines</th>\n",
       "      <td id=\"T_e5ed2_row0_col0\" class=\"data row0 col0\" >73.440000</td>\n",
       "      <td id=\"T_e5ed2_row0_col1\" class=\"data row0 col1\" >0.730000</td>\n",
       "      <td id=\"T_e5ed2_row0_col2\" class=\"data row0 col2\" >0.690000</td>\n",
       "      <td id=\"T_e5ed2_row0_col3\" class=\"data row0 col3\" >0.770000</td>\n",
       "    </tr>\n",
       "    <tr>\n",
       "      <th id=\"T_e5ed2_level0_row1\" class=\"row_heading level0 row1\" >Deep Neural Network</th>\n",
       "      <td id=\"T_e5ed2_row1_col0\" class=\"data row1 col0\" >73.380000</td>\n",
       "      <td id=\"T_e5ed2_row1_col1\" class=\"data row1 col1\" >0.740000</td>\n",
       "      <td id=\"T_e5ed2_row1_col2\" class=\"data row1 col2\" >0.700000</td>\n",
       "      <td id=\"T_e5ed2_row1_col3\" class=\"data row1 col3\" >0.760000</td>\n",
       "    </tr>\n",
       "    <tr>\n",
       "      <th id=\"T_e5ed2_level0_row2\" class=\"row_heading level0 row2\" >XGBoost</th>\n",
       "      <td id=\"T_e5ed2_row2_col0\" class=\"data row2 col0\" >73.160000</td>\n",
       "      <td id=\"T_e5ed2_row2_col1\" class=\"data row2 col1\" >0.730000</td>\n",
       "      <td id=\"T_e5ed2_row2_col2\" class=\"data row2 col2\" >0.700000</td>\n",
       "      <td id=\"T_e5ed2_row2_col3\" class=\"data row2 col3\" >0.760000</td>\n",
       "    </tr>\n",
       "    <tr>\n",
       "      <th id=\"T_e5ed2_level0_row3\" class=\"row_heading level0 row3\" >Logistic Regression</th>\n",
       "      <td id=\"T_e5ed2_row3_col0\" class=\"data row3 col0\" >72.830000</td>\n",
       "      <td id=\"T_e5ed2_row3_col1\" class=\"data row3 col1\" >0.720000</td>\n",
       "      <td id=\"T_e5ed2_row3_col2\" class=\"data row3 col2\" >0.690000</td>\n",
       "      <td id=\"T_e5ed2_row3_col3\" class=\"data row3 col3\" >0.760000</td>\n",
       "    </tr>\n",
       "    <tr>\n",
       "      <th id=\"T_e5ed2_level0_row4\" class=\"row_heading level0 row4\" >K-nearest Neighbors</th>\n",
       "      <td id=\"T_e5ed2_row4_col0\" class=\"data row4 col0\" >68.840000</td>\n",
       "      <td id=\"T_e5ed2_row4_col1\" class=\"data row4 col1\" >0.690000</td>\n",
       "      <td id=\"T_e5ed2_row4_col2\" class=\"data row4 col2\" >0.690000</td>\n",
       "      <td id=\"T_e5ed2_row4_col3\" class=\"data row4 col3\" >0.700000</td>\n",
       "    </tr>\n",
       "    <tr>\n",
       "      <th id=\"T_e5ed2_level0_row5\" class=\"row_heading level0 row5\" >Random Forest</th>\n",
       "      <td id=\"T_e5ed2_row5_col0\" class=\"data row5 col0\" >67.410000</td>\n",
       "      <td id=\"T_e5ed2_row5_col1\" class=\"data row5 col1\" >0.680000</td>\n",
       "      <td id=\"T_e5ed2_row5_col2\" class=\"data row5 col2\" >0.680000</td>\n",
       "      <td id=\"T_e5ed2_row5_col3\" class=\"data row5 col3\" >0.680000</td>\n",
       "    </tr>\n",
       "    <tr>\n",
       "      <th id=\"T_e5ed2_level0_row6\" class=\"row_heading level0 row6\" >Decision Tree</th>\n",
       "      <td id=\"T_e5ed2_row6_col0\" class=\"data row6 col0\" >62.520000</td>\n",
       "      <td id=\"T_e5ed2_row6_col1\" class=\"data row6 col1\" >0.620000</td>\n",
       "      <td id=\"T_e5ed2_row6_col2\" class=\"data row6 col2\" >0.600000</td>\n",
       "      <td id=\"T_e5ed2_row6_col3\" class=\"data row6 col3\" >0.650000</td>\n",
       "    </tr>\n",
       "  </tbody>\n",
       "</table>\n"
      ],
      "text/plain": [
       "<pandas.io.formats.style.Styler at 0x7f9b9fe303d0>"
      ]
     },
     "execution_count": 46,
     "metadata": {},
     "output_type": "execute_result"
    }
   ],
   "source": [
    "import numpy as np\n",
    "results.loc['Deep Neural Network']= [100*np.round(accuracy_score(y_test,classes_x),decimals=4),\n",
    "                         round(f1_score(y_test,classes_x),2), round(recall_score(y_test,pred),2),\n",
    "                         round(precision_score(y_test,pred),2),]\n",
    "results.sort_values(by='Accuracy in %',ascending=False).style.highlight_max(color = 'lightgreen')"
   ]
  },
  {
   "cell_type": "markdown",
   "id": "b7dc3204",
   "metadata": {
    "papermill": {
     "duration": 0.281746,
     "end_time": "2022-06-05T09:14:27.465121",
     "exception": false,
     "start_time": "2022-06-05T09:14:27.183375",
     "status": "completed"
    },
    "tags": []
   },
   "source": [
    "## Single input prediction"
   ]
  },
  {
   "cell_type": "markdown",
   "id": "d26ab81e",
   "metadata": {
    "papermill": {
     "duration": 0.28468,
     "end_time": "2022-06-05T09:14:28.037313",
     "exception": false,
     "start_time": "2022-06-05T09:14:27.752633",
     "status": "completed"
    },
    "tags": []
   },
   "source": [
    "#### We scale the given input based on the train set ,with the already used StandardScaler object."
   ]
  },
  {
   "cell_type": "code",
   "execution_count": 47,
   "id": "bf7b8730",
   "metadata": {
    "execution": {
     "iopub.execute_input": "2022-06-05T09:14:28.929974Z",
     "iopub.status.busy": "2022-06-05T09:14:28.929615Z",
     "iopub.status.idle": "2022-06-05T09:14:28.951351Z",
     "shell.execute_reply": "2022-06-05T09:14:28.950260Z"
    },
    "papermill": {
     "duration": 0.378109,
     "end_time": "2022-06-05T09:14:28.953960",
     "exception": false,
     "start_time": "2022-06-05T09:14:28.575851",
     "status": "completed"
    },
    "tags": []
   },
   "outputs": [
    {
     "data": {
      "text/html": [
       "<div>\n",
       "<style scoped>\n",
       "    .dataframe tbody tr th:only-of-type {\n",
       "        vertical-align: middle;\n",
       "    }\n",
       "\n",
       "    .dataframe tbody tr th {\n",
       "        vertical-align: top;\n",
       "    }\n",
       "\n",
       "    .dataframe thead th {\n",
       "        text-align: right;\n",
       "    }\n",
       "</style>\n",
       "<table border=\"1\" class=\"dataframe\">\n",
       "  <thead>\n",
       "    <tr style=\"text-align: right;\">\n",
       "      <th></th>\n",
       "      <th>age</th>\n",
       "      <th>gender</th>\n",
       "      <th>ap_hi</th>\n",
       "      <th>ap_lo</th>\n",
       "      <th>smoke</th>\n",
       "      <th>alco</th>\n",
       "      <th>active</th>\n",
       "      <th>bmi</th>\n",
       "      <th>cholesterol_normal</th>\n",
       "      <th>cholesterol_well above normal</th>\n",
       "      <th>gluc_normal</th>\n",
       "      <th>gluc_well above normal</th>\n",
       "    </tr>\n",
       "  </thead>\n",
       "  <tbody>\n",
       "    <tr>\n",
       "      <th>0</th>\n",
       "      <td>-4.466816</td>\n",
       "      <td>0</td>\n",
       "      <td>0.17479</td>\n",
       "      <td>-0.659057</td>\n",
       "      <td>1</td>\n",
       "      <td>0</td>\n",
       "      <td>1</td>\n",
       "      <td>-1.230381</td>\n",
       "      <td>1</td>\n",
       "      <td>0</td>\n",
       "      <td>1</td>\n",
       "      <td>0</td>\n",
       "    </tr>\n",
       "  </tbody>\n",
       "</table>\n",
       "</div>"
      ],
      "text/plain": [
       "        age  gender    ap_hi     ap_lo  smoke  alco  active       bmi  \\\n",
       "0 -4.466816       0  0.17479 -0.659057      1     0       1 -1.230381   \n",
       "\n",
       "   cholesterol_normal  cholesterol_well above normal  gluc_normal  \\\n",
       "0                   1                              0            1   \n",
       "\n",
       "   gluc_well above normal  \n",
       "0                       0  "
      ]
     },
     "execution_count": 47,
     "metadata": {},
     "output_type": "execute_result"
    }
   ],
   "source": [
    "input = [[23,0,130,75,1,0,1,21,1,0,1,0]]\n",
    "input_df = pd.DataFrame(input, columns=X_train.columns)\n",
    "input_df[to_be_scaled_feat] = scaler.transform(input_df[to_be_scaled_feat])\n",
    "input_df"
   ]
  },
  {
   "cell_type": "code",
   "execution_count": 48,
   "id": "6c24b01c",
   "metadata": {
    "execution": {
     "iopub.execute_input": "2022-06-05T09:14:29.539871Z",
     "iopub.status.busy": "2022-06-05T09:14:29.539537Z",
     "iopub.status.idle": "2022-06-05T09:14:29.546308Z",
     "shell.execute_reply": "2022-06-05T09:14:29.545297Z"
    },
    "papermill": {
     "duration": 0.299798,
     "end_time": "2022-06-05T09:14:29.548895",
     "exception": false,
     "start_time": "2022-06-05T09:14:29.249097",
     "status": "completed"
    },
    "tags": []
   },
   "outputs": [
    {
     "data": {
      "text/plain": [
       "Index(['age', 'gender', 'ap_hi', 'ap_lo', 'smoke', 'alco', 'active', 'bmi',\n",
       "       'cholesterol_normal', 'cholesterol_well above normal', 'gluc_normal',\n",
       "       'gluc_well above normal'],\n",
       "      dtype='object')"
      ]
     },
     "execution_count": 48,
     "metadata": {},
     "output_type": "execute_result"
    }
   ],
   "source": [
    "X_train.columns"
   ]
  },
  {
   "cell_type": "code",
   "execution_count": 49,
   "id": "80f293b8",
   "metadata": {
    "execution": {
     "iopub.execute_input": "2022-06-05T09:14:30.126378Z",
     "iopub.status.busy": "2022-06-05T09:14:30.126080Z",
     "iopub.status.idle": "2022-06-05T09:14:30.134363Z",
     "shell.execute_reply": "2022-06-05T09:14:30.133329Z"
    },
    "papermill": {
     "duration": 0.301081,
     "end_time": "2022-06-05T09:14:30.136680",
     "exception": false,
     "start_time": "2022-06-05T09:14:29.835599",
     "status": "completed"
    },
    "tags": []
   },
   "outputs": [
    {
     "data": {
      "text/plain": [
       "['x_train_columns.h5']"
      ]
     },
     "execution_count": 49,
     "metadata": {},
     "output_type": "execute_result"
    }
   ],
   "source": [
    "import joblib\n",
    "joblib.dump(X_train.columns, 'x_train_columns.h5')"
   ]
  },
  {
   "cell_type": "code",
   "execution_count": 50,
   "id": "f1384e90",
   "metadata": {
    "execution": {
     "iopub.execute_input": "2022-06-05T09:14:30.732688Z",
     "iopub.status.busy": "2022-06-05T09:14:30.732377Z",
     "iopub.status.idle": "2022-06-05T09:14:30.848775Z",
     "shell.execute_reply": "2022-06-05T09:14:30.847760Z"
    },
    "papermill": {
     "duration": 0.410172,
     "end_time": "2022-06-05T09:14:30.851238",
     "exception": false,
     "start_time": "2022-06-05T09:14:30.441066",
     "status": "completed"
    },
    "tags": []
   },
   "outputs": [
    {
     "data": {
      "text/plain": [
       "array([[0.0481191]], dtype=float32)"
      ]
     },
     "execution_count": 50,
     "metadata": {},
     "output_type": "execute_result"
    }
   ],
   "source": [
    "pred = model.predict(input_df)\n",
    "pred"
   ]
  },
  {
   "cell_type": "code",
   "execution_count": null,
   "id": "2c05ce0f",
   "metadata": {
    "papermill": {
     "duration": 0.288526,
     "end_time": "2022-06-05T09:14:31.428855",
     "exception": false,
     "start_time": "2022-06-05T09:14:31.140329",
     "status": "completed"
    },
    "tags": []
   },
   "outputs": [],
   "source": []
  }
 ],
 "metadata": {
  "kernelspec": {
   "display_name": "Python 3",
   "language": "python",
   "name": "python3"
  },
  "language_info": {
   "codemirror_mode": {
    "name": "ipython",
    "version": 3
   },
   "file_extension": ".py",
   "mimetype": "text/x-python",
   "name": "python",
   "nbconvert_exporter": "python",
   "pygments_lexer": "ipython3",
   "version": "3.7.12"
  },
  "papermill": {
   "default_parameters": {},
   "duration": 269.007143,
   "end_time": "2022-06-05T09:14:34.695435",
   "environment_variables": {},
   "exception": null,
   "input_path": "__notebook__.ipynb",
   "output_path": "__notebook__.ipynb",
   "parameters": {},
   "start_time": "2022-06-05T09:10:05.688292",
   "version": "2.3.4"
  }
 },
 "nbformat": 4,
 "nbformat_minor": 5
}
